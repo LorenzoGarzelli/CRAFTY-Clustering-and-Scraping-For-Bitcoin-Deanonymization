{
 "cells": [
  {
   "cell_type": "markdown",
   "id": "302c96d7",
   "metadata": {},
   "source": [
    "# 2.1 Analisi generali dei dati della blockchain"
   ]
  },
  {
   "cell_type": "markdown",
   "id": "4e32a1c1",
   "metadata": {},
   "source": [
    "Per la prima parte del progetto, sono richieste delle analisi sulle transazioni e sui blocchi della blockchain.\n",
    "Dunque , ho importato il DataFrame delle transazioni , associato i vari nomi alle colonne (secondo quando riportato nel paragrafo  **1.Descrizione del DataSet** , della descrizione del progetto), e convertito i valori della colonna `timestamp`, in oggetti datetime pandas, per rendere più semplice le successivi analisi"
   ]
  },
  {
   "cell_type": "code",
   "execution_count": 1,
   "id": "98f8357f-6c64-41d6-b781-8acf5bef2e68",
   "metadata": {
    "tags": []
   },
   "outputs": [
    {
     "data": {
      "text/html": [
       "<div>\n",
       "<style scoped>\n",
       "    .dataframe tbody tr th:only-of-type {\n",
       "        vertical-align: middle;\n",
       "    }\n",
       "\n",
       "    .dataframe tbody tr th {\n",
       "        vertical-align: top;\n",
       "    }\n",
       "\n",
       "    .dataframe thead th {\n",
       "        text-align: right;\n",
       "    }\n",
       "</style>\n",
       "<table border=\"1\" class=\"dataframe\">\n",
       "  <thead>\n",
       "    <tr style=\"text-align: right;\">\n",
       "      <th></th>\n",
       "      <th>timestamp</th>\n",
       "      <th>blockId</th>\n",
       "      <th>txId</th>\n",
       "      <th>isCoinbase</th>\n",
       "      <th>fee</th>\n",
       "    </tr>\n",
       "  </thead>\n",
       "  <tbody>\n",
       "    <tr>\n",
       "      <th>0</th>\n",
       "      <td>2009-01-09 03:54:39</td>\n",
       "      <td>9</td>\n",
       "      <td>9</td>\n",
       "      <td>1</td>\n",
       "      <td>0</td>\n",
       "    </tr>\n",
       "    <tr>\n",
       "      <th>1</th>\n",
       "      <td>2009-01-11 01:00:54</td>\n",
       "      <td>78</td>\n",
       "      <td>78</td>\n",
       "      <td>1</td>\n",
       "      <td>0</td>\n",
       "    </tr>\n",
       "    <tr>\n",
       "      <th>2</th>\n",
       "      <td>2009-01-12 03:30:25</td>\n",
       "      <td>170</td>\n",
       "      <td>171</td>\n",
       "      <td>0</td>\n",
       "      <td>0</td>\n",
       "    </tr>\n",
       "    <tr>\n",
       "      <th>3</th>\n",
       "      <td>2009-01-12 06:02:13</td>\n",
       "      <td>181</td>\n",
       "      <td>183</td>\n",
       "      <td>0</td>\n",
       "      <td>0</td>\n",
       "    </tr>\n",
       "    <tr>\n",
       "      <th>4</th>\n",
       "      <td>2009-01-12 06:12:16</td>\n",
       "      <td>182</td>\n",
       "      <td>185</td>\n",
       "      <td>0</td>\n",
       "      <td>0</td>\n",
       "    </tr>\n",
       "  </tbody>\n",
       "</table>\n",
       "</div>"
      ],
      "text/plain": [
       "            timestamp  blockId  txId  isCoinbase  fee\n",
       "0 2009-01-09 03:54:39        9     9           1    0\n",
       "1 2009-01-11 01:00:54       78    78           1    0\n",
       "2 2009-01-12 03:30:25      170   171           0    0\n",
       "3 2009-01-12 06:02:13      181   183           0    0\n",
       "4 2009-01-12 06:12:16      182   185           0    0"
      ]
     },
     "execution_count": 1,
     "metadata": {},
     "output_type": "execute_result"
    }
   ],
   "source": [
    "import warnings\n",
    "import pandas as pd\n",
    "import matplotlib.pyplot as plt\n",
    "\n",
    "warnings.filterwarnings('ignore')\n",
    "\n",
    "df_transactions=pd.read_csv(\"2013/transactions.csv\",names=[\"timestamp\",\"blockId\",\"txId\",\"isCoinbase\",\"fee\"])\n",
    "df_transactions[\"timestamp\"]=pd.to_datetime(df_transactions[\"timestamp\"],unit='s')\n",
    "\n",
    "df_transactions.head()"
   ]
  },
  {
   "cell_type": "markdown",
   "id": "95428ec7-0494-4cf5-8710-de7809f1f9f3",
   "metadata": {},
   "source": [
    "## distribuzione del numero di transazioni per blocco (occupazione del blocco), nell’intero periodo temporale considerato"
   ]
  },
  {
   "cell_type": "markdown",
   "id": "b592122c",
   "metadata": {},
   "source": [
    "Per effettuare l'analisi richiesta , ho calcolato il numero di occorrenze di ciascun blocco ,all'interno del DataFrame della transazioni , producendo una Series contenente i vari risultati"
   ]
  },
  {
   "cell_type": "code",
   "execution_count": 2,
   "id": "cf91ba98",
   "metadata": {
    "tags": []
   },
   "outputs": [
    {
     "data": {
      "text/plain": [
       "blockId\n",
       "191716    1871\n",
       "193271    1852\n",
       "193645    1836\n",
       "191652    1833\n",
       "194208    1798\n",
       "          ... \n",
       "68244        1\n",
       "68242        1\n",
       "68240        1\n",
       "68238        1\n",
       "123909       1\n",
       "Name: count, Length: 181089, dtype: int64"
      ]
     },
     "execution_count": 2,
     "metadata": {},
     "output_type": "execute_result"
    }
   ],
   "source": [
    "series_blocks_occurrences=df_transactions['blockId'].value_counts()\n",
    "series_blocks_occurrences"
   ]
  },
  {
   "cell_type": "markdown",
   "id": "f73a4e45",
   "metadata": {},
   "source": [
    "Successivamente, per avere una rappresentazione grafica dell'analisi effettuata, ho scelto di utilizzare l'istogramma , come tipologia di plotting (scala logaritmica)"
   ]
  },
  {
   "cell_type": "code",
   "execution_count": 3,
   "id": "b0714236-8fa7-453d-99de-36968db38843",
   "metadata": {
    "tags": []
   },
   "outputs": [
    {
     "data": {
      "image/png": "[encoded data removed]",
      "text/plain": [
       "<Figure size 640x480 with 1 Axes>"
      ]
     },
     "metadata": {},
     "output_type": "display_data"
    }
   ],
   "source": [
    "#plt.hist(series_blocks_occurrences.values,bins=100,range=(0,800))\n",
    "plt.hist(series_blocks_occurrences.values,bins=100,log=True)\n",
    "plt.ylabel(\"Frequency\")\n",
    "plt.xlabel(\"N. transactions per Block\")\n",
    "\n",
    "plt.show()"
   ]
  },
  {
   "cell_type": "markdown",
   "id": "984811c7",
   "metadata": {},
   "source": [
    "Osservando il grafico prodotto, si nota che la maggior parte dei blocchi della blockchain, non contengono piu di 50 transazioni"
   ]
  },
  {
   "cell_type": "markdown",
   "id": "528d9543-4c6e-4d5a-b260-71c744904236",
   "metadata": {},
   "source": [
    "## evoluzione dell'occupazione dei blocchi nel tempo, considerando intervalli temporali di due mesi. In questo caso produrre un grafico che riporti il numero di transazioni medie per ogni periodo considerato"
   ]
  },
  {
   "cell_type": "markdown",
   "id": "b5d034b4",
   "metadata": {},
   "source": [
    "Per effettuare l'analisi richiesta , ho aggiunto per ciascuna transazione (all'interno del DataFrame delle transazioni) il campo `year` , che rappresenta l'anno in cui è avvenuta la transazione"
   ]
  },
  {
   "cell_type": "code",
   "execution_count": 4,
   "id": "c5a50a33",
   "metadata": {
    "tags": []
   },
   "outputs": [
    {
     "data": {
      "text/html": [
       "<div>\n",
       "<style scoped>\n",
       "    .dataframe tbody tr th:only-of-type {\n",
       "        vertical-align: middle;\n",
       "    }\n",
       "\n",
       "    .dataframe tbody tr th {\n",
       "        vertical-align: top;\n",
       "    }\n",
       "\n",
       "    .dataframe thead th {\n",
       "        text-align: right;\n",
       "    }\n",
       "</style>\n",
       "<table border=\"1\" class=\"dataframe\">\n",
       "  <thead>\n",
       "    <tr style=\"text-align: right;\">\n",
       "      <th></th>\n",
       "      <th>timestamp</th>\n",
       "      <th>blockId</th>\n",
       "      <th>txId</th>\n",
       "      <th>isCoinbase</th>\n",
       "      <th>fee</th>\n",
       "      <th>year</th>\n",
       "    </tr>\n",
       "  </thead>\n",
       "  <tbody>\n",
       "    <tr>\n",
       "      <th>0</th>\n",
       "      <td>2009-01-09 03:54:39</td>\n",
       "      <td>9</td>\n",
       "      <td>9</td>\n",
       "      <td>1</td>\n",
       "      <td>0</td>\n",
       "      <td>2009</td>\n",
       "    </tr>\n",
       "    <tr>\n",
       "      <th>1</th>\n",
       "      <td>2009-01-11 01:00:54</td>\n",
       "      <td>78</td>\n",
       "      <td>78</td>\n",
       "      <td>1</td>\n",
       "      <td>0</td>\n",
       "      <td>2009</td>\n",
       "    </tr>\n",
       "    <tr>\n",
       "      <th>2</th>\n",
       "      <td>2009-01-12 03:30:25</td>\n",
       "      <td>170</td>\n",
       "      <td>171</td>\n",
       "      <td>0</td>\n",
       "      <td>0</td>\n",
       "      <td>2009</td>\n",
       "    </tr>\n",
       "    <tr>\n",
       "      <th>3</th>\n",
       "      <td>2009-01-12 06:02:13</td>\n",
       "      <td>181</td>\n",
       "      <td>183</td>\n",
       "      <td>0</td>\n",
       "      <td>0</td>\n",
       "      <td>2009</td>\n",
       "    </tr>\n",
       "    <tr>\n",
       "      <th>4</th>\n",
       "      <td>2009-01-12 06:12:16</td>\n",
       "      <td>182</td>\n",
       "      <td>185</td>\n",
       "      <td>0</td>\n",
       "      <td>0</td>\n",
       "      <td>2009</td>\n",
       "    </tr>\n",
       "    <tr>\n",
       "      <th>...</th>\n",
       "      <td>...</td>\n",
       "      <td>...</td>\n",
       "      <td>...</td>\n",
       "      <td>...</td>\n",
       "      <td>...</td>\n",
       "      <td>...</td>\n",
       "    </tr>\n",
       "    <tr>\n",
       "      <th>10532110</th>\n",
       "      <td>2012-12-31 23:52:37</td>\n",
       "      <td>214562</td>\n",
       "      <td>10572822</td>\n",
       "      <td>0</td>\n",
       "      <td>100000</td>\n",
       "      <td>2012</td>\n",
       "    </tr>\n",
       "    <tr>\n",
       "      <th>10532111</th>\n",
       "      <td>2012-12-31 23:52:37</td>\n",
       "      <td>214562</td>\n",
       "      <td>10572823</td>\n",
       "      <td>0</td>\n",
       "      <td>100000</td>\n",
       "      <td>2012</td>\n",
       "    </tr>\n",
       "    <tr>\n",
       "      <th>10532112</th>\n",
       "      <td>2012-12-31 23:52:37</td>\n",
       "      <td>214562</td>\n",
       "      <td>10572824</td>\n",
       "      <td>0</td>\n",
       "      <td>100000</td>\n",
       "      <td>2012</td>\n",
       "    </tr>\n",
       "    <tr>\n",
       "      <th>10532113</th>\n",
       "      <td>2012-12-31 23:52:37</td>\n",
       "      <td>214562</td>\n",
       "      <td>10572825</td>\n",
       "      <td>0</td>\n",
       "      <td>100000</td>\n",
       "      <td>2012</td>\n",
       "    </tr>\n",
       "    <tr>\n",
       "      <th>10532114</th>\n",
       "      <td>2012-12-31 23:52:37</td>\n",
       "      <td>214562</td>\n",
       "      <td>10572826</td>\n",
       "      <td>0</td>\n",
       "      <td>100000</td>\n",
       "      <td>2012</td>\n",
       "    </tr>\n",
       "  </tbody>\n",
       "</table>\n",
       "<p>10532115 rows × 6 columns</p>\n",
       "</div>"
      ],
      "text/plain": [
       "                   timestamp  blockId      txId  isCoinbase     fee  year\n",
       "0        2009-01-09 03:54:39        9         9           1       0  2009\n",
       "1        2009-01-11 01:00:54       78        78           1       0  2009\n",
       "2        2009-01-12 03:30:25      170       171           0       0  2009\n",
       "3        2009-01-12 06:02:13      181       183           0       0  2009\n",
       "4        2009-01-12 06:12:16      182       185           0       0  2009\n",
       "...                      ...      ...       ...         ...     ...   ...\n",
       "10532110 2012-12-31 23:52:37   214562  10572822           0  100000  2012\n",
       "10532111 2012-12-31 23:52:37   214562  10572823           0  100000  2012\n",
       "10532112 2012-12-31 23:52:37   214562  10572824           0  100000  2012\n",
       "10532113 2012-12-31 23:52:37   214562  10572825           0  100000  2012\n",
       "10532114 2012-12-31 23:52:37   214562  10572826           0  100000  2012\n",
       "\n",
       "[10532115 rows x 6 columns]"
      ]
     },
     "execution_count": 4,
     "metadata": {},
     "output_type": "execute_result"
    }
   ],
   "source": [
    "import numpy as np\n",
    "\n",
    "### 1)\n",
    "df_transactions['year']=df_transactions['timestamp'].dt.year\n",
    "df_transactions"
   ]
  },
  {
   "cell_type": "markdown",
   "id": "e6faa2dc",
   "metadata": {},
   "source": [
    "Successivamente, ho  effettuato  una `groupby` per coppia (mese,anno), contando il numero di transazioni in ciascun blocco, in quel periodo"
   ]
  },
  {
   "cell_type": "code",
   "execution_count": 5,
   "id": "efb15b4d",
   "metadata": {
    "tags": []
   },
   "outputs": [
    {
     "data": {
      "text/html": [
       "<div>\n",
       "<style scoped>\n",
       "    .dataframe tbody tr th:only-of-type {\n",
       "        vertical-align: middle;\n",
       "    }\n",
       "\n",
       "    .dataframe tbody tr th {\n",
       "        vertical-align: top;\n",
       "    }\n",
       "\n",
       "    .dataframe thead th {\n",
       "        text-align: right;\n",
       "    }\n",
       "</style>\n",
       "<table border=\"1\" class=\"dataframe\">\n",
       "  <thead>\n",
       "    <tr style=\"text-align: right;\">\n",
       "      <th></th>\n",
       "      <th>month_number</th>\n",
       "      <th>year</th>\n",
       "      <th>blockId</th>\n",
       "      <th>n.transactions</th>\n",
       "    </tr>\n",
       "  </thead>\n",
       "  <tbody>\n",
       "    <tr>\n",
       "      <th>0</th>\n",
       "      <td>1</td>\n",
       "      <td>2009</td>\n",
       "      <td>546</td>\n",
       "      <td>3</td>\n",
       "    </tr>\n",
       "    <tr>\n",
       "      <th>1</th>\n",
       "      <td>1</td>\n",
       "      <td>2009</td>\n",
       "      <td>1967</td>\n",
       "      <td>2</td>\n",
       "    </tr>\n",
       "    <tr>\n",
       "      <th>2</th>\n",
       "      <td>1</td>\n",
       "      <td>2009</td>\n",
       "      <td>2518</td>\n",
       "      <td>2</td>\n",
       "    </tr>\n",
       "    <tr>\n",
       "      <th>3</th>\n",
       "      <td>1</td>\n",
       "      <td>2009</td>\n",
       "      <td>728</td>\n",
       "      <td>2</td>\n",
       "    </tr>\n",
       "    <tr>\n",
       "      <th>4</th>\n",
       "      <td>1</td>\n",
       "      <td>2009</td>\n",
       "      <td>707</td>\n",
       "      <td>2</td>\n",
       "    </tr>\n",
       "    <tr>\n",
       "      <th>...</th>\n",
       "      <td>...</td>\n",
       "      <td>...</td>\n",
       "      <td>...</td>\n",
       "      <td>...</td>\n",
       "    </tr>\n",
       "    <tr>\n",
       "      <th>181084</th>\n",
       "      <td>12</td>\n",
       "      <td>2012</td>\n",
       "      <td>212328</td>\n",
       "      <td>1</td>\n",
       "    </tr>\n",
       "    <tr>\n",
       "      <th>181085</th>\n",
       "      <td>12</td>\n",
       "      <td>2012</td>\n",
       "      <td>212338</td>\n",
       "      <td>1</td>\n",
       "    </tr>\n",
       "    <tr>\n",
       "      <th>181086</th>\n",
       "      <td>12</td>\n",
       "      <td>2012</td>\n",
       "      <td>211843</td>\n",
       "      <td>1</td>\n",
       "    </tr>\n",
       "    <tr>\n",
       "      <th>181087</th>\n",
       "      <td>12</td>\n",
       "      <td>2012</td>\n",
       "      <td>212204</td>\n",
       "      <td>1</td>\n",
       "    </tr>\n",
       "    <tr>\n",
       "      <th>181088</th>\n",
       "      <td>12</td>\n",
       "      <td>2012</td>\n",
       "      <td>212265</td>\n",
       "      <td>1</td>\n",
       "    </tr>\n",
       "  </tbody>\n",
       "</table>\n",
       "<p>181089 rows × 4 columns</p>\n",
       "</div>"
      ],
      "text/plain": [
       "        month_number  year  blockId  n.transactions\n",
       "0                  1  2009      546               3\n",
       "1                  1  2009     1967               2\n",
       "2                  1  2009     2518               2\n",
       "3                  1  2009      728               2\n",
       "4                  1  2009      707               2\n",
       "...              ...   ...      ...             ...\n",
       "181084            12  2012   212328               1\n",
       "181085            12  2012   212338               1\n",
       "181086            12  2012   211843               1\n",
       "181087            12  2012   212204               1\n",
       "181088            12  2012   212265               1\n",
       "\n",
       "[181089 rows x 4 columns]"
      ]
     },
     "execution_count": 5,
     "metadata": {},
     "output_type": "execute_result"
    }
   ],
   "source": [
    "### 2) \n",
    "\n",
    "year_month_mask=[df_transactions['timestamp'].dt.month,df_transactions['year']]\n",
    "\n",
    "df_grouped_transactions=df_transactions.groupby(year_month_mask)['blockId'].value_counts().reset_index()\n",
    "df_grouped_transactions.columns=['month_number','year','blockId','n.transactions']\n",
    "\n",
    "df_grouped_transactions"
   ]
  },
  {
   "cell_type": "markdown",
   "id": "bbd10bb7",
   "metadata": {},
   "source": [
    "Dopo di che, ho calcolato la media di transazioni per blocco, nell'intervallo temporale di  due mesi consecutivi, per tutti gli anni dal 2009 al 2012"
   ]
  },
  {
   "cell_type": "code",
   "execution_count": 6,
   "id": "84510fb6",
   "metadata": {
    "tags": []
   },
   "outputs": [
    {
     "data": {
      "text/html": [
       "<div>\n",
       "<style scoped>\n",
       "    .dataframe tbody tr th:only-of-type {\n",
       "        vertical-align: middle;\n",
       "    }\n",
       "\n",
       "    .dataframe tbody tr th {\n",
       "        vertical-align: top;\n",
       "    }\n",
       "\n",
       "    .dataframe thead th {\n",
       "        text-align: right;\n",
       "    }\n",
       "</style>\n",
       "<table border=\"1\" class=\"dataframe\">\n",
       "  <thead>\n",
       "    <tr style=\"text-align: right;\">\n",
       "      <th></th>\n",
       "      <th>months_group</th>\n",
       "      <th>year</th>\n",
       "      <th>avg</th>\n",
       "    </tr>\n",
       "  </thead>\n",
       "  <tbody>\n",
       "    <tr>\n",
       "      <th>0</th>\n",
       "      <td>0</td>\n",
       "      <td>2009</td>\n",
       "      <td>1.024658</td>\n",
       "    </tr>\n",
       "    <tr>\n",
       "      <th>1</th>\n",
       "      <td>0</td>\n",
       "      <td>2010</td>\n",
       "      <td>1.011524</td>\n",
       "    </tr>\n",
       "    <tr>\n",
       "      <th>2</th>\n",
       "      <td>0</td>\n",
       "      <td>2011</td>\n",
       "      <td>6.805808</td>\n",
       "    </tr>\n",
       "    <tr>\n",
       "      <th>3</th>\n",
       "      <td>0</td>\n",
       "      <td>2012</td>\n",
       "      <td>42.125843</td>\n",
       "    </tr>\n",
       "    <tr>\n",
       "      <th>4</th>\n",
       "      <td>1</td>\n",
       "      <td>2009</td>\n",
       "      <td>1.018233</td>\n",
       "    </tr>\n",
       "    <tr>\n",
       "      <th>5</th>\n",
       "      <td>1</td>\n",
       "      <td>2010</td>\n",
       "      <td>1.033346</td>\n",
       "    </tr>\n",
       "    <tr>\n",
       "      <th>6</th>\n",
       "      <td>1</td>\n",
       "      <td>2011</td>\n",
       "      <td>12.599125</td>\n",
       "    </tr>\n",
       "    <tr>\n",
       "      <th>7</th>\n",
       "      <td>1</td>\n",
       "      <td>2012</td>\n",
       "      <td>46.008048</td>\n",
       "    </tr>\n",
       "    <tr>\n",
       "      <th>8</th>\n",
       "      <td>2</td>\n",
       "      <td>2009</td>\n",
       "      <td>1.006549</td>\n",
       "    </tr>\n",
       "    <tr>\n",
       "      <th>9</th>\n",
       "      <td>2</td>\n",
       "      <td>2010</td>\n",
       "      <td>1.587792</td>\n",
       "    </tr>\n",
       "    <tr>\n",
       "      <th>10</th>\n",
       "      <td>2</td>\n",
       "      <td>2011</td>\n",
       "      <td>17.790306</td>\n",
       "    </tr>\n",
       "    <tr>\n",
       "      <th>11</th>\n",
       "      <td>2</td>\n",
       "      <td>2012</td>\n",
       "      <td>102.826678</td>\n",
       "    </tr>\n",
       "    <tr>\n",
       "      <th>12</th>\n",
       "      <td>3</td>\n",
       "      <td>2009</td>\n",
       "      <td>1.004858</td>\n",
       "    </tr>\n",
       "    <tr>\n",
       "      <th>13</th>\n",
       "      <td>3</td>\n",
       "      <td>2010</td>\n",
       "      <td>2.771040</td>\n",
       "    </tr>\n",
       "    <tr>\n",
       "      <th>14</th>\n",
       "      <td>3</td>\n",
       "      <td>2011</td>\n",
       "      <td>52.341719</td>\n",
       "    </tr>\n",
       "    <tr>\n",
       "      <th>15</th>\n",
       "      <td>3</td>\n",
       "      <td>2012</td>\n",
       "      <td>202.722192</td>\n",
       "    </tr>\n",
       "    <tr>\n",
       "      <th>16</th>\n",
       "      <td>4</td>\n",
       "      <td>2009</td>\n",
       "      <td>1.005344</td>\n",
       "    </tr>\n",
       "    <tr>\n",
       "      <th>17</th>\n",
       "      <td>4</td>\n",
       "      <td>2010</td>\n",
       "      <td>2.246436</td>\n",
       "    </tr>\n",
       "    <tr>\n",
       "      <th>18</th>\n",
       "      <td>4</td>\n",
       "      <td>2011</td>\n",
       "      <td>50.522860</td>\n",
       "    </tr>\n",
       "    <tr>\n",
       "      <th>19</th>\n",
       "      <td>4</td>\n",
       "      <td>2012</td>\n",
       "      <td>213.586495</td>\n",
       "    </tr>\n",
       "    <tr>\n",
       "      <th>20</th>\n",
       "      <td>5</td>\n",
       "      <td>2009</td>\n",
       "      <td>1.006669</td>\n",
       "    </tr>\n",
       "    <tr>\n",
       "      <th>21</th>\n",
       "      <td>5</td>\n",
       "      <td>2010</td>\n",
       "      <td>7.049851</td>\n",
       "    </tr>\n",
       "    <tr>\n",
       "      <th>22</th>\n",
       "      <td>5</td>\n",
       "      <td>2011</td>\n",
       "      <td>42.823209</td>\n",
       "    </tr>\n",
       "    <tr>\n",
       "      <th>23</th>\n",
       "      <td>5</td>\n",
       "      <td>2012</td>\n",
       "      <td>208.094642</td>\n",
       "    </tr>\n",
       "    <tr>\n",
       "      <th>24</th>\n",
       "      <td>6</td>\n",
       "      <td>2009</td>\n",
       "      <td>1.007666</td>\n",
       "    </tr>\n",
       "    <tr>\n",
       "      <th>25</th>\n",
       "      <td>6</td>\n",
       "      <td>2010</td>\n",
       "      <td>3.080186</td>\n",
       "    </tr>\n",
       "    <tr>\n",
       "      <th>26</th>\n",
       "      <td>6</td>\n",
       "      <td>2011</td>\n",
       "      <td>37.606894</td>\n",
       "    </tr>\n",
       "    <tr>\n",
       "      <th>27</th>\n",
       "      <td>6</td>\n",
       "      <td>2012</td>\n",
       "      <td>271.972684</td>\n",
       "    </tr>\n",
       "  </tbody>\n",
       "</table>\n",
       "</div>"
      ],
      "text/plain": [
       "    months_group  year         avg\n",
       "0              0  2009    1.024658\n",
       "1              0  2010    1.011524\n",
       "2              0  2011    6.805808\n",
       "3              0  2012   42.125843\n",
       "4              1  2009    1.018233\n",
       "5              1  2010    1.033346\n",
       "6              1  2011   12.599125\n",
       "7              1  2012   46.008048\n",
       "8              2  2009    1.006549\n",
       "9              2  2010    1.587792\n",
       "10             2  2011   17.790306\n",
       "11             2  2012  102.826678\n",
       "12             3  2009    1.004858\n",
       "13             3  2010    2.771040\n",
       "14             3  2011   52.341719\n",
       "15             3  2012  202.722192\n",
       "16             4  2009    1.005344\n",
       "17             4  2010    2.246436\n",
       "18             4  2011   50.522860\n",
       "19             4  2012  213.586495\n",
       "20             5  2009    1.006669\n",
       "21             5  2010    7.049851\n",
       "22             5  2011   42.823209\n",
       "23             5  2012  208.094642\n",
       "24             6  2009    1.007666\n",
       "25             6  2010    3.080186\n",
       "26             6  2011   37.606894\n",
       "27             6  2012  271.972684"
      ]
     },
     "execution_count": 6,
     "metadata": {},
     "output_type": "execute_result"
    }
   ],
   "source": [
    "### 3)\n",
    "\n",
    "### Per poter raggruppare le transazioni in un intervallo di due mesi consecutivi,\n",
    "### ho utilizzato la floor division, per mappare ciascuna coppia di mesi a un \"gruppo\" specifico\n",
    "### Es:  0(Jan) // 2 = 0  ,  1(Feb) // 2 = 0\n",
    "### Es:  2(Mar) // 2 = 1  ,  3(Apr) // 2 = 1\n",
    "\n",
    "two_month_interval_mask=[df_grouped_transactions.month_number // 2,df_grouped_transactions.year]\n",
    "\n",
    "\n",
    "df_avg_transactions=df_grouped_transactions.groupby(two_month_interval_mask)['n.transactions'].mean().reset_index()\n",
    "\n",
    "\n",
    "df_avg_transactions.columns=['months_group','year','avg']\n",
    "df_avg_transactions"
   ]
  },
  {
   "cell_type": "markdown",
   "id": "89127fef",
   "metadata": {},
   "source": [
    "In fine, per avere una rappresentazione grafica intuitiva dell'analisi effettuata , ho utilizzato un grouped bar plot, dove per ciascun anno , si rappresenta il numero di transazioni medie , per coppia di mesi conseguitivi"
   ]
  },
  {
   "cell_type": "code",
   "execution_count": 7,
   "id": "a336320e-43be-4b1c-9839-e2b469d7561e",
   "metadata": {
    "tags": []
   },
   "outputs": [
    {
     "data": {
      "text/plain": [
       "Text(0.5, 0, 'Years')"
      ]
     },
     "execution_count": 7,
     "metadata": {},
     "output_type": "execute_result"
    },
    {
     "data": {
      "image/png": "[encoded data removed]",
      "text/plain": [
       "<Figure size 1500x500 with 1 Axes>"
      ]
     },
     "metadata": {},
     "output_type": "display_data"
    }
   ],
   "source": [
    "### 4)\n",
    "\n",
    "years=[ 2009 , 2010 , 2011 , 2012 ]\n",
    "months=[ 'Jan-Feb' , 'Mar-Apr' , 'May-June' , 'July-Aug' , 'Sept-Oct' , 'Nov-Dec' ];\n",
    "width=0.1\n",
    "x_ind=np.arange(len(years))\n",
    "\n",
    "fig, ax = plt.subplots(figsize=(15,5))\n",
    "\n",
    "### Restituisce una Series contenente il numero di transazioni medie per blocco , in due mesi contigui specifici (eg: Jan-Feb),\n",
    "### per ogni anno dal 2009 al 2012\n",
    "def compute_months_group_tx_mean(months_group):\n",
    "    res=df_avg_transactions[ df_avg_transactions.months_group == months_group ]\n",
    "    return res['avg']\n",
    "\n",
    "\n",
    "rects1=ax.bar( x_ind+(1.5*width) , compute_months_group_tx_mean(0) , width , label = months[0] )\n",
    "rects2=ax.bar( x_ind+(2.5*width) , compute_months_group_tx_mean(1) , width , label = months[1] )\n",
    "rects3=ax.bar( x_ind+(3.5*width) , compute_months_group_tx_mean(2) , width , label = months[2] )\n",
    "rects4=ax.bar( x_ind+(4.5*width) , compute_months_group_tx_mean(3) , width , label = months[3] )\n",
    "rects5=ax.bar( x_ind+(5.5*width) , compute_months_group_tx_mean(4) , width , label = months[4] )\n",
    "rects6=ax.bar( x_ind+(6.5*width) , compute_months_group_tx_mean(5) , width , label = months[5] )\n",
    "\n",
    "\n",
    "ax.set_xticks([r + width * 4 for r in range(len(years))],years)\n",
    "\n",
    "\n",
    "### Le label non sono state inserite in quanto comprometterebbero la leggibilità del plot \n",
    "\n",
    "\"\"\"\n",
    "ax.bar_label(rects1,padding=0,label_type='center')\n",
    "ax.bar_label(rects2,label_type='center',padding=5)\n",
    "ax.bar_label(rects3,padding=6,label_type='center')\n",
    "ax.bar_label(rects4,padding=8,label_type='center')\n",
    "ax.bar_label(rects5,padding=0,label_type='center')\n",
    "ax.bar_label(rects6,label_type='center')\n",
    "\"\"\"\n",
    "\n",
    "ax.legend()\n",
    "ax.set_ylabel('Tx average')\n",
    "ax.set_xlabel('Years')"
   ]
  },
  {
   "cell_type": "markdown",
   "id": "93c3ed0a-01e2-4d9d-91b3-8cbe1ed27249",
   "metadata": {},
   "source": [
    "## ammontare totale degli UTXO al momento dell’ultima transazione registrata nella blockchain considerata"
   ]
  },
  {
   "cell_type": "markdown",
   "id": "54ff6cd6",
   "metadata": {},
   "source": [
    "Per effettuare l'analisi richiesta, ho aggiunto il campo `output_id`, calcolato come la concatenazione del campo `prevTxId`  e `prevTxPos` , nel Data Frame `Inputs` , e nel Data Frame `Outputs` , calcolato come concatenazione del campo `txId` e `position`.\n",
    "Questo ha permesso di semplificare le operazioni successive.\n"
   ]
  },
  {
   "cell_type": "code",
   "execution_count": 8,
   "id": "0b08287c-da54-49d7-bb05-ddd8c21a94f3",
   "metadata": {
    "tags": []
   },
   "outputs": [
    {
     "name": "stdout",
     "output_type": "stream",
     "text": [
      "   txId  prevTxId  prevTxPos\n",
      "0   171         9          0\n",
      "1   183       171          1\n",
      "2   185       183          1\n",
      "3   187       185          1\n",
      "4   192       187          0\n",
      "   txId  position  addressId      amount  scripType\n",
      "0     9         0          9  5000000000          1\n",
      "1    78         0         78  5000000000          1\n",
      "2   171         0        171  1000000000          1\n",
      "3   171         1          9  4000000000          1\n",
      "4   183         0        183  1000000000          1\n"
     ]
    }
   ],
   "source": [
    "Inputs=pd.read_csv(\"2013/inputs.csv\",names=[\"txId\",\"prevTxId\",\"prevTxPos\"])\n",
    "Outputs=pd.read_csv(\"2013/outputs.csv\",names=[\"txId\",\"position\",\"addressId\",\"amount\",\"scripType\"])\n",
    "\n",
    "# associo ad ogni input un id che identifica l'output che utilizza\n",
    "#Inputs['output_id']=Inputs['prevTxId'].astype(str)+Inputs['prevTxPos'].astype(str)\n",
    "\n",
    "### associo ad ogni output un id che semplifica le operazioni di merging e di join , con il Data Frame Input\n",
    "#Outputs['output_id']=Outputs['txId'].astype(str)+Outputs['position'].astype(str)\n",
    "\n",
    "print(Inputs.head())\n",
    "print(Outputs.head())"
   ]
  },
  {
   "cell_type": "markdown",
   "id": "62d69f53",
   "metadata": {},
   "source": [
    "Successivamente , ho cercato tutti gli output che non sono utilizzati come input in una transazione (UTXO)"
   ]
  },
  {
   "cell_type": "code",
   "execution_count": 9,
   "id": "aa78d2a8",
   "metadata": {},
   "outputs": [],
   "source": [
    "merged_df=pd.merge(Outputs,Inputs,left_on=['txId','position'],right_on=['prevTxId','prevTxPos'],indicator=True,how='left')"
   ]
  },
  {
   "cell_type": "code",
   "execution_count": 10,
   "id": "53d710aa",
   "metadata": {},
   "outputs": [
    {
     "data": {
      "text/html": [
       "<div>\n",
       "<style scoped>\n",
       "    .dataframe tbody tr th:only-of-type {\n",
       "        vertical-align: middle;\n",
       "    }\n",
       "\n",
       "    .dataframe tbody tr th {\n",
       "        vertical-align: top;\n",
       "    }\n",
       "\n",
       "    .dataframe thead th {\n",
       "        text-align: right;\n",
       "    }\n",
       "</style>\n",
       "<table border=\"1\" class=\"dataframe\">\n",
       "  <thead>\n",
       "    <tr style=\"text-align: right;\">\n",
       "      <th></th>\n",
       "      <th>txId_x</th>\n",
       "      <th>position</th>\n",
       "      <th>addressId</th>\n",
       "      <th>amount</th>\n",
       "      <th>scripType</th>\n",
       "      <th>txId_y</th>\n",
       "      <th>prevTxId</th>\n",
       "      <th>prevTxPos</th>\n",
       "      <th>_merge</th>\n",
       "    </tr>\n",
       "  </thead>\n",
       "  <tbody>\n",
       "    <tr>\n",
       "      <th>4</th>\n",
       "      <td>183</td>\n",
       "      <td>0</td>\n",
       "      <td>183</td>\n",
       "      <td>1000000000</td>\n",
       "      <td>1</td>\n",
       "      <td>NaN</td>\n",
       "      <td>NaN</td>\n",
       "      <td>NaN</td>\n",
       "      <td>left_only</td>\n",
       "    </tr>\n",
       "    <tr>\n",
       "      <th>11</th>\n",
       "      <td>227</td>\n",
       "      <td>0</td>\n",
       "      <td>227</td>\n",
       "      <td>100000000</td>\n",
       "      <td>1</td>\n",
       "      <td>NaN</td>\n",
       "      <td>NaN</td>\n",
       "      <td>NaN</td>\n",
       "      <td>left_only</td>\n",
       "    </tr>\n",
       "    <tr>\n",
       "      <th>14</th>\n",
       "      <td>255</td>\n",
       "      <td>1</td>\n",
       "      <td>9</td>\n",
       "      <td>1800000000</td>\n",
       "      <td>1</td>\n",
       "      <td>NaN</td>\n",
       "      <td>NaN</td>\n",
       "      <td>NaN</td>\n",
       "      <td>left_only</td>\n",
       "    </tr>\n",
       "    <tr>\n",
       "      <th>41</th>\n",
       "      <td>504</td>\n",
       "      <td>0</td>\n",
       "      <td>504</td>\n",
       "      <td>6100000000</td>\n",
       "      <td>1</td>\n",
       "      <td>NaN</td>\n",
       "      <td>NaN</td>\n",
       "      <td>NaN</td>\n",
       "      <td>left_only</td>\n",
       "    </tr>\n",
       "    <tr>\n",
       "      <th>48</th>\n",
       "      <td>533</td>\n",
       "      <td>1</td>\n",
       "      <td>293</td>\n",
       "      <td>2500000000</td>\n",
       "      <td>1</td>\n",
       "      <td>NaN</td>\n",
       "      <td>NaN</td>\n",
       "      <td>NaN</td>\n",
       "      <td>left_only</td>\n",
       "    </tr>\n",
       "    <tr>\n",
       "      <th>...</th>\n",
       "      <td>...</td>\n",
       "      <td>...</td>\n",
       "      <td>...</td>\n",
       "      <td>...</td>\n",
       "      <td>...</td>\n",
       "      <td>...</td>\n",
       "      <td>...</td>\n",
       "      <td>...</td>\n",
       "      <td>...</td>\n",
       "    </tr>\n",
       "    <tr>\n",
       "      <th>24573066</th>\n",
       "      <td>10572825</td>\n",
       "      <td>0</td>\n",
       "      <td>8707915</td>\n",
       "      <td>1</td>\n",
       "      <td>2</td>\n",
       "      <td>NaN</td>\n",
       "      <td>NaN</td>\n",
       "      <td>NaN</td>\n",
       "      <td>left_only</td>\n",
       "    </tr>\n",
       "    <tr>\n",
       "      <th>24573067</th>\n",
       "      <td>10572825</td>\n",
       "      <td>1</td>\n",
       "      <td>6137715</td>\n",
       "      <td>9899999</td>\n",
       "      <td>2</td>\n",
       "      <td>NaN</td>\n",
       "      <td>NaN</td>\n",
       "      <td>NaN</td>\n",
       "      <td>left_only</td>\n",
       "    </tr>\n",
       "    <tr>\n",
       "      <th>24573068</th>\n",
       "      <td>10572826</td>\n",
       "      <td>0</td>\n",
       "      <td>8707915</td>\n",
       "      <td>26651306</td>\n",
       "      <td>2</td>\n",
       "      <td>NaN</td>\n",
       "      <td>NaN</td>\n",
       "      <td>NaN</td>\n",
       "      <td>left_only</td>\n",
       "    </tr>\n",
       "    <tr>\n",
       "      <th>24573069</th>\n",
       "      <td>10572826</td>\n",
       "      <td>1</td>\n",
       "      <td>6137711</td>\n",
       "      <td>7991620447</td>\n",
       "      <td>2</td>\n",
       "      <td>NaN</td>\n",
       "      <td>NaN</td>\n",
       "      <td>NaN</td>\n",
       "      <td>left_only</td>\n",
       "    </tr>\n",
       "    <tr>\n",
       "      <th>24573070</th>\n",
       "      <td>10572826</td>\n",
       "      <td>2</td>\n",
       "      <td>6137491</td>\n",
       "      <td>7991620447</td>\n",
       "      <td>2</td>\n",
       "      <td>NaN</td>\n",
       "      <td>NaN</td>\n",
       "      <td>NaN</td>\n",
       "      <td>left_only</td>\n",
       "    </tr>\n",
       "  </tbody>\n",
       "</table>\n",
       "<p>3194301 rows × 9 columns</p>\n",
       "</div>"
      ],
      "text/plain": [
       "            txId_x  position  addressId      amount  scripType  txId_y  \\\n",
       "4              183         0        183  1000000000          1     NaN   \n",
       "11             227         0        227   100000000          1     NaN   \n",
       "14             255         1          9  1800000000          1     NaN   \n",
       "41             504         0        504  6100000000          1     NaN   \n",
       "48             533         1        293  2500000000          1     NaN   \n",
       "...            ...       ...        ...         ...        ...     ...   \n",
       "24573066  10572825         0    8707915           1          2     NaN   \n",
       "24573067  10572825         1    6137715     9899999          2     NaN   \n",
       "24573068  10572826         0    8707915    26651306          2     NaN   \n",
       "24573069  10572826         1    6137711  7991620447          2     NaN   \n",
       "24573070  10572826         2    6137491  7991620447          2     NaN   \n",
       "\n",
       "          prevTxId  prevTxPos     _merge  \n",
       "4              NaN        NaN  left_only  \n",
       "11             NaN        NaN  left_only  \n",
       "14             NaN        NaN  left_only  \n",
       "41             NaN        NaN  left_only  \n",
       "48             NaN        NaN  left_only  \n",
       "...            ...        ...        ...  \n",
       "24573066       NaN        NaN  left_only  \n",
       "24573067       NaN        NaN  left_only  \n",
       "24573068       NaN        NaN  left_only  \n",
       "24573069       NaN        NaN  left_only  \n",
       "24573070       NaN        NaN  left_only  \n",
       "\n",
       "[3194301 rows x 9 columns]"
      ]
     },
     "execution_count": 10,
     "metadata": {},
     "output_type": "execute_result"
    }
   ],
   "source": [
    "missing_fk_rows = merged_df[merged_df['_merge'] == 'left_only']\n",
    "\n",
    "missing_fk_rows"
   ]
  },
  {
   "cell_type": "markdown",
   "id": "ef02a6ae",
   "metadata": {},
   "source": [
    "Dopo di che , ho calcolato l'ammontare totale degli UTXO , effettuando la somma di tutti gli  `amount` , degli output individuati"
   ]
  },
  {
   "cell_type": "code",
   "execution_count": 12,
   "id": "e00fe2f9-df49-4e9d-a053-5a512f607686",
   "metadata": {
    "tags": []
   },
   "outputs": [
    {
     "name": "stdout",
     "output_type": "stream",
     "text": [
      "ammontare totale degli UTXO: 859303372614879\n"
     ]
    }
   ],
   "source": [
    "total_UTXO=missing_fk_rows['amount'].sum()\n",
    "\n",
    "print(f\"ammontare totale degli UTXO: {total_UTXO}\")"
   ]
  },
  {
   "cell_type": "markdown",
   "id": "dbaf4746-e8b2-476d-b37b-5d167676b4bb",
   "metadata": {},
   "source": [
    "## distribuzione degli intervalli di tempo che intercorrono tra la transazione che genera un valore in output (UTXO) e quella che lo consuma, per gli output spesi nel periodo considerato."
   ]
  },
  {
   "cell_type": "markdown",
   "id": "b7e8057e",
   "metadata": {},
   "source": [
    "Per effettuare l'analisi richiesta ,  ho rimosso tutti gli output che non vengono spesi come input in nessuna transazione (UTXO), per rendere più piccolo il DataFrame e facilitarne l'analisi"
   ]
  },
  {
   "cell_type": "code",
   "execution_count": 35,
   "id": "ef7933a1",
   "metadata": {},
   "outputs": [
    {
     "data": {
      "text/html": [
       "<div>\n",
       "<style scoped>\n",
       "    .dataframe tbody tr th:only-of-type {\n",
       "        vertical-align: middle;\n",
       "    }\n",
       "\n",
       "    .dataframe tbody tr th {\n",
       "        vertical-align: top;\n",
       "    }\n",
       "\n",
       "    .dataframe thead th {\n",
       "        text-align: right;\n",
       "    }\n",
       "</style>\n",
       "<table border=\"1\" class=\"dataframe\">\n",
       "  <thead>\n",
       "    <tr style=\"text-align: right;\">\n",
       "      <th></th>\n",
       "      <th>txId_produced</th>\n",
       "      <th>position</th>\n",
       "      <th>addressId</th>\n",
       "      <th>amount</th>\n",
       "      <th>txId_consumed</th>\n",
       "    </tr>\n",
       "  </thead>\n",
       "  <tbody>\n",
       "    <tr>\n",
       "      <th>0</th>\n",
       "      <td>9</td>\n",
       "      <td>0</td>\n",
       "      <td>9</td>\n",
       "      <td>5000000000</td>\n",
       "      <td>171</td>\n",
       "    </tr>\n",
       "    <tr>\n",
       "      <th>1</th>\n",
       "      <td>78</td>\n",
       "      <td>0</td>\n",
       "      <td>78</td>\n",
       "      <td>5000000000</td>\n",
       "      <td>724715</td>\n",
       "    </tr>\n",
       "    <tr>\n",
       "      <th>2</th>\n",
       "      <td>171</td>\n",
       "      <td>0</td>\n",
       "      <td>171</td>\n",
       "      <td>1000000000</td>\n",
       "      <td>156739</td>\n",
       "    </tr>\n",
       "    <tr>\n",
       "      <th>3</th>\n",
       "      <td>171</td>\n",
       "      <td>1</td>\n",
       "      <td>9</td>\n",
       "      <td>4000000000</td>\n",
       "      <td>183</td>\n",
       "    </tr>\n",
       "    <tr>\n",
       "      <th>4</th>\n",
       "      <td>183</td>\n",
       "      <td>1</td>\n",
       "      <td>9</td>\n",
       "      <td>3000000000</td>\n",
       "      <td>185</td>\n",
       "    </tr>\n",
       "    <tr>\n",
       "      <th>...</th>\n",
       "      <td>...</td>\n",
       "      <td>...</td>\n",
       "      <td>...</td>\n",
       "      <td>...</td>\n",
       "      <td>...</td>\n",
       "    </tr>\n",
       "    <tr>\n",
       "      <th>21378765</th>\n",
       "      <td>10572820</td>\n",
       "      <td>3</td>\n",
       "      <td>3534212</td>\n",
       "      <td>10000000</td>\n",
       "      <td>10572821</td>\n",
       "    </tr>\n",
       "    <tr>\n",
       "      <th>21378766</th>\n",
       "      <td>10572820</td>\n",
       "      <td>4</td>\n",
       "      <td>3535501</td>\n",
       "      <td>10000000</td>\n",
       "      <td>10572822</td>\n",
       "    </tr>\n",
       "    <tr>\n",
       "      <th>21378767</th>\n",
       "      <td>10572820</td>\n",
       "      <td>5</td>\n",
       "      <td>3525822</td>\n",
       "      <td>10000000</td>\n",
       "      <td>10572824</td>\n",
       "    </tr>\n",
       "    <tr>\n",
       "      <th>21378768</th>\n",
       "      <td>10572820</td>\n",
       "      <td>6</td>\n",
       "      <td>3517234</td>\n",
       "      <td>10000000</td>\n",
       "      <td>10572825</td>\n",
       "    </tr>\n",
       "    <tr>\n",
       "      <th>21378769</th>\n",
       "      <td>10572820</td>\n",
       "      <td>7</td>\n",
       "      <td>3526385</td>\n",
       "      <td>10000000</td>\n",
       "      <td>10572823</td>\n",
       "    </tr>\n",
       "  </tbody>\n",
       "</table>\n",
       "<p>21378770 rows × 5 columns</p>\n",
       "</div>"
      ],
      "text/plain": [
       "          txId_produced  position  addressId      amount  txId_consumed\n",
       "0                     9         0          9  5000000000            171\n",
       "1                    78         0         78  5000000000         724715\n",
       "2                   171         0        171  1000000000         156739\n",
       "3                   171         1          9  4000000000            183\n",
       "4                   183         1          9  3000000000            185\n",
       "...                 ...       ...        ...         ...            ...\n",
       "21378765       10572820         3    3534212    10000000       10572821\n",
       "21378766       10572820         4    3535501    10000000       10572822\n",
       "21378767       10572820         5    3525822    10000000       10572824\n",
       "21378768       10572820         6    3517234    10000000       10572825\n",
       "21378769       10572820         7    3526385    10000000       10572823\n",
       "\n",
       "[21378770 rows x 5 columns]"
      ]
     },
     "execution_count": 35,
     "metadata": {},
     "output_type": "execute_result"
    }
   ],
   "source": [
    "merged_df_utxo=pd.merge(Outputs,Inputs,left_on=['txId','position'],right_on=['prevTxId','prevTxPos'],how='inner')\n",
    "merged_df_utxo.drop(columns=['scripType','prevTxId','prevTxPos'],inplace=True) \n",
    "merged_df_utxo.columns=['txId_produced','position','addressId','amount','txId_consumed']\n",
    "merged_df_utxo"
   ]
  },
  {
   "cell_type": "markdown",
   "id": "66798e43",
   "metadata": {},
   "source": [
    "In seguito, ho  effettuato il merging del DataFrame ottenuto con il DataFrame `df_transactions`, per ottenere le date in cui sono stati prodotti gli UTXO"
   ]
  },
  {
   "cell_type": "code",
   "execution_count": 36,
   "id": "06000007",
   "metadata": {},
   "outputs": [
    {
     "data": {
      "text/html": [
       "<div>\n",
       "<style scoped>\n",
       "    .dataframe tbody tr th:only-of-type {\n",
       "        vertical-align: middle;\n",
       "    }\n",
       "\n",
       "    .dataframe tbody tr th {\n",
       "        vertical-align: top;\n",
       "    }\n",
       "\n",
       "    .dataframe thead th {\n",
       "        text-align: right;\n",
       "    }\n",
       "</style>\n",
       "<table border=\"1\" class=\"dataframe\">\n",
       "  <thead>\n",
       "    <tr style=\"text-align: right;\">\n",
       "      <th></th>\n",
       "      <th>txId_produced</th>\n",
       "      <th>position</th>\n",
       "      <th>addressId</th>\n",
       "      <th>amount</th>\n",
       "      <th>txId_consumed</th>\n",
       "      <th>produced_timestamp</th>\n",
       "    </tr>\n",
       "  </thead>\n",
       "  <tbody>\n",
       "    <tr>\n",
       "      <th>0</th>\n",
       "      <td>9</td>\n",
       "      <td>0</td>\n",
       "      <td>9</td>\n",
       "      <td>5000000000</td>\n",
       "      <td>171</td>\n",
       "      <td>2009-01-09 03:54:39</td>\n",
       "    </tr>\n",
       "    <tr>\n",
       "      <th>1</th>\n",
       "      <td>78</td>\n",
       "      <td>0</td>\n",
       "      <td>78</td>\n",
       "      <td>5000000000</td>\n",
       "      <td>724715</td>\n",
       "      <td>2009-01-11 01:00:54</td>\n",
       "    </tr>\n",
       "    <tr>\n",
       "      <th>2</th>\n",
       "      <td>171</td>\n",
       "      <td>0</td>\n",
       "      <td>171</td>\n",
       "      <td>1000000000</td>\n",
       "      <td>156739</td>\n",
       "      <td>2009-01-12 03:30:25</td>\n",
       "    </tr>\n",
       "    <tr>\n",
       "      <th>3</th>\n",
       "      <td>171</td>\n",
       "      <td>1</td>\n",
       "      <td>9</td>\n",
       "      <td>4000000000</td>\n",
       "      <td>183</td>\n",
       "      <td>2009-01-12 03:30:25</td>\n",
       "    </tr>\n",
       "    <tr>\n",
       "      <th>4</th>\n",
       "      <td>183</td>\n",
       "      <td>1</td>\n",
       "      <td>9</td>\n",
       "      <td>3000000000</td>\n",
       "      <td>185</td>\n",
       "      <td>2009-01-12 06:02:13</td>\n",
       "    </tr>\n",
       "    <tr>\n",
       "      <th>...</th>\n",
       "      <td>...</td>\n",
       "      <td>...</td>\n",
       "      <td>...</td>\n",
       "      <td>...</td>\n",
       "      <td>...</td>\n",
       "      <td>...</td>\n",
       "    </tr>\n",
       "    <tr>\n",
       "      <th>21378765</th>\n",
       "      <td>10572820</td>\n",
       "      <td>3</td>\n",
       "      <td>3534212</td>\n",
       "      <td>10000000</td>\n",
       "      <td>10572821</td>\n",
       "      <td>2012-12-31 23:52:37</td>\n",
       "    </tr>\n",
       "    <tr>\n",
       "      <th>21378766</th>\n",
       "      <td>10572820</td>\n",
       "      <td>4</td>\n",
       "      <td>3535501</td>\n",
       "      <td>10000000</td>\n",
       "      <td>10572822</td>\n",
       "      <td>2012-12-31 23:52:37</td>\n",
       "    </tr>\n",
       "    <tr>\n",
       "      <th>21378767</th>\n",
       "      <td>10572820</td>\n",
       "      <td>5</td>\n",
       "      <td>3525822</td>\n",
       "      <td>10000000</td>\n",
       "      <td>10572824</td>\n",
       "      <td>2012-12-31 23:52:37</td>\n",
       "    </tr>\n",
       "    <tr>\n",
       "      <th>21378768</th>\n",
       "      <td>10572820</td>\n",
       "      <td>6</td>\n",
       "      <td>3517234</td>\n",
       "      <td>10000000</td>\n",
       "      <td>10572825</td>\n",
       "      <td>2012-12-31 23:52:37</td>\n",
       "    </tr>\n",
       "    <tr>\n",
       "      <th>21378769</th>\n",
       "      <td>10572820</td>\n",
       "      <td>7</td>\n",
       "      <td>3526385</td>\n",
       "      <td>10000000</td>\n",
       "      <td>10572823</td>\n",
       "      <td>2012-12-31 23:52:37</td>\n",
       "    </tr>\n",
       "  </tbody>\n",
       "</table>\n",
       "<p>21378770 rows × 6 columns</p>\n",
       "</div>"
      ],
      "text/plain": [
       "          txId_produced  position  addressId      amount  txId_consumed  \\\n",
       "0                     9         0          9  5000000000            171   \n",
       "1                    78         0         78  5000000000         724715   \n",
       "2                   171         0        171  1000000000         156739   \n",
       "3                   171         1          9  4000000000            183   \n",
       "4                   183         1          9  3000000000            185   \n",
       "...                 ...       ...        ...         ...            ...   \n",
       "21378765       10572820         3    3534212    10000000       10572821   \n",
       "21378766       10572820         4    3535501    10000000       10572822   \n",
       "21378767       10572820         5    3525822    10000000       10572824   \n",
       "21378768       10572820         6    3517234    10000000       10572825   \n",
       "21378769       10572820         7    3526385    10000000       10572823   \n",
       "\n",
       "          produced_timestamp  \n",
       "0        2009-01-09 03:54:39  \n",
       "1        2009-01-11 01:00:54  \n",
       "2        2009-01-12 03:30:25  \n",
       "3        2009-01-12 03:30:25  \n",
       "4        2009-01-12 06:02:13  \n",
       "...                      ...  \n",
       "21378765 2012-12-31 23:52:37  \n",
       "21378766 2012-12-31 23:52:37  \n",
       "21378767 2012-12-31 23:52:37  \n",
       "21378768 2012-12-31 23:52:37  \n",
       "21378769 2012-12-31 23:52:37  \n",
       "\n",
       "[21378770 rows x 6 columns]"
      ]
     },
     "execution_count": 36,
     "metadata": {},
     "output_type": "execute_result"
    }
   ],
   "source": [
    "df_produced_date_utxo=merged_df_utxo.merge(df_transactions[['txId','timestamp']],left_on='txId_produced',right_on='txId',how='inner')\n",
    "df_produced_date_utxo.drop(columns=['txId'],inplace=True)\n",
    "df_produced_date_utxo.rename(columns={'timestamp':'produced_timestamp'},inplace=True)\n",
    "df_produced_date_utxo"
   ]
  },
  {
   "cell_type": "markdown",
   "id": "9729bb2b",
   "metadata": {},
   "source": [
    "Dopo di che, ho effettuato il merging del DataFrame ottenuto , con il DataFrame `df_transactions`, per ottenere le date in cui sono stati spesi gli UTXO"
   ]
  },
  {
   "cell_type": "code",
   "execution_count": 37,
   "id": "c906c53d",
   "metadata": {},
   "outputs": [
    {
     "data": {
      "text/html": [
       "<div>\n",
       "<style scoped>\n",
       "    .dataframe tbody tr th:only-of-type {\n",
       "        vertical-align: middle;\n",
       "    }\n",
       "\n",
       "    .dataframe tbody tr th {\n",
       "        vertical-align: top;\n",
       "    }\n",
       "\n",
       "    .dataframe thead th {\n",
       "        text-align: right;\n",
       "    }\n",
       "</style>\n",
       "<table border=\"1\" class=\"dataframe\">\n",
       "  <thead>\n",
       "    <tr style=\"text-align: right;\">\n",
       "      <th></th>\n",
       "      <th>txId_produced</th>\n",
       "      <th>position</th>\n",
       "      <th>addressId</th>\n",
       "      <th>amount</th>\n",
       "      <th>txId_consumed</th>\n",
       "      <th>produced_timestamp</th>\n",
       "      <th>consumed_timestamp</th>\n",
       "    </tr>\n",
       "  </thead>\n",
       "  <tbody>\n",
       "    <tr>\n",
       "      <th>0</th>\n",
       "      <td>9</td>\n",
       "      <td>0</td>\n",
       "      <td>9</td>\n",
       "      <td>5000000000</td>\n",
       "      <td>171</td>\n",
       "      <td>2009-01-09 03:54:39</td>\n",
       "      <td>2009-01-12 03:30:25</td>\n",
       "    </tr>\n",
       "    <tr>\n",
       "      <th>1</th>\n",
       "      <td>78</td>\n",
       "      <td>0</td>\n",
       "      <td>78</td>\n",
       "      <td>5000000000</td>\n",
       "      <td>724715</td>\n",
       "      <td>2009-01-11 01:00:54</td>\n",
       "      <td>2011-06-14 05:22:23</td>\n",
       "    </tr>\n",
       "    <tr>\n",
       "      <th>2</th>\n",
       "      <td>368</td>\n",
       "      <td>0</td>\n",
       "      <td>368</td>\n",
       "      <td>5000000000</td>\n",
       "      <td>724715</td>\n",
       "      <td>2009-01-13 18:57:05</td>\n",
       "      <td>2011-06-14 05:22:23</td>\n",
       "    </tr>\n",
       "    <tr>\n",
       "      <th>3</th>\n",
       "      <td>745</td>\n",
       "      <td>0</td>\n",
       "      <td>743</td>\n",
       "      <td>5000000000</td>\n",
       "      <td>724715</td>\n",
       "      <td>2009-01-16 19:18:35</td>\n",
       "      <td>2011-06-14 05:22:23</td>\n",
       "    </tr>\n",
       "    <tr>\n",
       "      <th>4</th>\n",
       "      <td>795</td>\n",
       "      <td>0</td>\n",
       "      <td>793</td>\n",
       "      <td>5000000000</td>\n",
       "      <td>724715</td>\n",
       "      <td>2009-01-17 05:59:08</td>\n",
       "      <td>2011-06-14 05:22:23</td>\n",
       "    </tr>\n",
       "  </tbody>\n",
       "</table>\n",
       "</div>"
      ],
      "text/plain": [
       "   txId_produced  position  addressId      amount  txId_consumed  \\\n",
       "0              9         0          9  5000000000            171   \n",
       "1             78         0         78  5000000000         724715   \n",
       "2            368         0        368  5000000000         724715   \n",
       "3            745         0        743  5000000000         724715   \n",
       "4            795         0        793  5000000000         724715   \n",
       "\n",
       "   produced_timestamp  consumed_timestamp  \n",
       "0 2009-01-09 03:54:39 2009-01-12 03:30:25  \n",
       "1 2009-01-11 01:00:54 2011-06-14 05:22:23  \n",
       "2 2009-01-13 18:57:05 2011-06-14 05:22:23  \n",
       "3 2009-01-16 19:18:35 2011-06-14 05:22:23  \n",
       "4 2009-01-17 05:59:08 2011-06-14 05:22:23  "
      ]
     },
     "execution_count": 37,
     "metadata": {},
     "output_type": "execute_result"
    }
   ],
   "source": [
    "df_consumed_date_utxo=df_produced_date_utxo.merge(df_transactions[['txId','timestamp']],left_on='txId_consumed',right_on='txId',how='inner')\n",
    "df_consumed_date_utxo=df_consumed_date_utxo.drop(columns=['txId'])### Campo ridontante quindi lo elimino\n",
    "df_consumed_date_utxo.rename(columns={'timestamp':'consumed_timestamp'},inplace=True)\n",
    "\n",
    "df_consumed_date_utxo.head()\n",
    "\n",
    "### txId_produced si riferisce all' id della transazione che ha generato l' UTXO\n",
    "### txId_consumed si riferisce all' id della transazione che ha speso l' UTXO"
   ]
  },
  {
   "cell_type": "markdown",
   "id": "1c740177",
   "metadata": {},
   "source": [
    "In fine , ho calcolato il tempo che intercorre tra `produced_date` e `consumed_date` (in numero di giorni) , per ciascun UTXO, "
   ]
  },
  {
   "cell_type": "code",
   "execution_count": 38,
   "id": "ad96de29",
   "metadata": {},
   "outputs": [
    {
     "data": {
      "text/html": [
       "<div>\n",
       "<style scoped>\n",
       "    .dataframe tbody tr th:only-of-type {\n",
       "        vertical-align: middle;\n",
       "    }\n",
       "\n",
       "    .dataframe tbody tr th {\n",
       "        vertical-align: top;\n",
       "    }\n",
       "\n",
       "    .dataframe thead th {\n",
       "        text-align: right;\n",
       "    }\n",
       "</style>\n",
       "<table border=\"1\" class=\"dataframe\">\n",
       "  <thead>\n",
       "    <tr style=\"text-align: right;\">\n",
       "      <th></th>\n",
       "      <th>txId_produced</th>\n",
       "      <th>position</th>\n",
       "      <th>addressId</th>\n",
       "      <th>amount</th>\n",
       "      <th>txId_consumed</th>\n",
       "      <th>produced_timestamp</th>\n",
       "      <th>consumed_timestamp</th>\n",
       "      <th>diff_days</th>\n",
       "    </tr>\n",
       "  </thead>\n",
       "  <tbody>\n",
       "    <tr>\n",
       "      <th>0</th>\n",
       "      <td>9</td>\n",
       "      <td>0</td>\n",
       "      <td>9</td>\n",
       "      <td>5000000000</td>\n",
       "      <td>171</td>\n",
       "      <td>2009-01-09 03:54:39</td>\n",
       "      <td>2009-01-12 03:30:25</td>\n",
       "      <td>2</td>\n",
       "    </tr>\n",
       "    <tr>\n",
       "      <th>1</th>\n",
       "      <td>78</td>\n",
       "      <td>0</td>\n",
       "      <td>78</td>\n",
       "      <td>5000000000</td>\n",
       "      <td>724715</td>\n",
       "      <td>2009-01-11 01:00:54</td>\n",
       "      <td>2011-06-14 05:22:23</td>\n",
       "      <td>884</td>\n",
       "    </tr>\n",
       "    <tr>\n",
       "      <th>2</th>\n",
       "      <td>368</td>\n",
       "      <td>0</td>\n",
       "      <td>368</td>\n",
       "      <td>5000000000</td>\n",
       "      <td>724715</td>\n",
       "      <td>2009-01-13 18:57:05</td>\n",
       "      <td>2011-06-14 05:22:23</td>\n",
       "      <td>881</td>\n",
       "    </tr>\n",
       "    <tr>\n",
       "      <th>3</th>\n",
       "      <td>745</td>\n",
       "      <td>0</td>\n",
       "      <td>743</td>\n",
       "      <td>5000000000</td>\n",
       "      <td>724715</td>\n",
       "      <td>2009-01-16 19:18:35</td>\n",
       "      <td>2011-06-14 05:22:23</td>\n",
       "      <td>878</td>\n",
       "    </tr>\n",
       "    <tr>\n",
       "      <th>4</th>\n",
       "      <td>795</td>\n",
       "      <td>0</td>\n",
       "      <td>793</td>\n",
       "      <td>5000000000</td>\n",
       "      <td>724715</td>\n",
       "      <td>2009-01-17 05:59:08</td>\n",
       "      <td>2011-06-14 05:22:23</td>\n",
       "      <td>877</td>\n",
       "    </tr>\n",
       "  </tbody>\n",
       "</table>\n",
       "</div>"
      ],
      "text/plain": [
       "   txId_produced  position  addressId      amount  txId_consumed  \\\n",
       "0              9         0          9  5000000000            171   \n",
       "1             78         0         78  5000000000         724715   \n",
       "2            368         0        368  5000000000         724715   \n",
       "3            745         0        743  5000000000         724715   \n",
       "4            795         0        793  5000000000         724715   \n",
       "\n",
       "   produced_timestamp  consumed_timestamp  diff_days  \n",
       "0 2009-01-09 03:54:39 2009-01-12 03:30:25          2  \n",
       "1 2009-01-11 01:00:54 2011-06-14 05:22:23        884  \n",
       "2 2009-01-13 18:57:05 2011-06-14 05:22:23        881  \n",
       "3 2009-01-16 19:18:35 2011-06-14 05:22:23        878  \n",
       "4 2009-01-17 05:59:08 2011-06-14 05:22:23        877  "
      ]
     },
     "execution_count": 38,
     "metadata": {},
     "output_type": "execute_result"
    }
   ],
   "source": [
    "df_consumed_date_utxo['diff_days'] = (df_consumed_date_utxo['consumed_timestamp'] - df_consumed_date_utxo['produced_timestamp']) / np.timedelta64(1, 'D')\n",
    "\n",
    "df_consumed_date_utxo['diff_days']=df_consumed_date_utxo['diff_days'].astype(int)\n",
    "\n",
    "df_consumed_date_utxo.head()"
   ]
  },
  {
   "cell_type": "markdown",
   "id": "b0edaf92",
   "metadata": {},
   "source": [
    "Per avere una visualizzazione grafica dell'analisi effettuata ,  ho utilizzato l'istogramma, che permette di dare un'idea intuitiva , degli intervalli di tempo , che intercorrono tra la creazione di un output e il suo utilizzo come input in una transazione"
   ]
  },
  {
   "cell_type": "code",
   "execution_count": 39,
   "id": "b5331995-e912-43d8-b63d-22763ed68e4b",
   "metadata": {
    "tags": []
   },
   "outputs": [
    {
     "data": {
      "image/png": "[encoded data removed]",
      "text/plain": [
       "<Figure size 640x480 with 1 Axes>"
      ]
     },
     "metadata": {},
     "output_type": "display_data"
    }
   ],
   "source": [
    "plt.hist(df_consumed_date_utxo.diff_days,bins=20,log=True) # bins=20\n",
    "plt.ylabel(\"Frequency\")\n",
    "plt.xlabel(\"Days  between the Production and the Consumption of the UTXO \")\n",
    "\n",
    "plt.show()"
   ]
  },
  {
   "cell_type": "markdown",
   "id": "99c7205a",
   "metadata": {},
   "source": [
    "Osservando il grafico , si nota che la maggior parte degli UTXO sono stati spesi in al massimo 50 giorni dalla loro creazione"
   ]
  },
  {
   "cell_type": "markdown",
   "id": "a97a9c58-dd2d-4011-a81e-c2a67793b7ad",
   "metadata": {},
   "source": [
    "## Analisi a scelta: Distribuzione del Volume delle transazioni nell'intero periodo"
   ]
  },
  {
   "cell_type": "markdown",
   "id": "01eaa11f",
   "metadata": {},
   "source": [
    "Per realizzare l'analisi proposta, ho effettuato un `groupby` sul Data Frame `Outputs` , effettuando la somma di tutti gli amount, prodotti da ciascuna transazione"
   ]
  },
  {
   "cell_type": "code",
   "execution_count": 40,
   "id": "771a0356-b79c-4014-bb68-6643bff7bad6",
   "metadata": {
    "tags": []
   },
   "outputs": [
    {
     "data": {
      "text/html": [
       "<div>\n",
       "<style scoped>\n",
       "    .dataframe tbody tr th:only-of-type {\n",
       "        vertical-align: middle;\n",
       "    }\n",
       "\n",
       "    .dataframe tbody tr th {\n",
       "        vertical-align: top;\n",
       "    }\n",
       "\n",
       "    .dataframe thead th {\n",
       "        text-align: right;\n",
       "    }\n",
       "</style>\n",
       "<table border=\"1\" class=\"dataframe\">\n",
       "  <thead>\n",
       "    <tr style=\"text-align: right;\">\n",
       "      <th></th>\n",
       "      <th>txId</th>\n",
       "      <th>amount</th>\n",
       "    </tr>\n",
       "  </thead>\n",
       "  <tbody>\n",
       "    <tr>\n",
       "      <th>0</th>\n",
       "      <td>9</td>\n",
       "      <td>5000000000</td>\n",
       "    </tr>\n",
       "    <tr>\n",
       "      <th>1</th>\n",
       "      <td>78</td>\n",
       "      <td>5000000000</td>\n",
       "    </tr>\n",
       "    <tr>\n",
       "      <th>2</th>\n",
       "      <td>171</td>\n",
       "      <td>5000000000</td>\n",
       "    </tr>\n",
       "    <tr>\n",
       "      <th>3</th>\n",
       "      <td>183</td>\n",
       "      <td>4000000000</td>\n",
       "    </tr>\n",
       "    <tr>\n",
       "      <th>4</th>\n",
       "      <td>185</td>\n",
       "      <td>3000000000</td>\n",
       "    </tr>\n",
       "  </tbody>\n",
       "</table>\n",
       "</div>"
      ],
      "text/plain": [
       "   txId      amount\n",
       "0     9  5000000000\n",
       "1    78  5000000000\n",
       "2   171  5000000000\n",
       "3   183  4000000000\n",
       "4   185  3000000000"
      ]
     },
     "execution_count": 40,
     "metadata": {},
     "output_type": "execute_result"
    }
   ],
   "source": [
    "Output_values=Outputs.groupby(Outputs['txId'])['amount'].sum().reset_index()\n",
    "Output_values.columns=['txId','amount']\n",
    "Output_values.head()"
   ]
  },
  {
   "cell_type": "markdown",
   "id": "f45f307e-3800-4ed4-8229-b134702d6dcc",
   "metadata": {},
   "source": [
    "Successivamente , ho effettuato il merging con il DataFrame `df_transactions`, per associare a ciascuna transazione la data in cui è avvenuta "
   ]
  },
  {
   "cell_type": "code",
   "execution_count": 41,
   "id": "587bcd5d-e66a-4c21-ae37-0a23ab02c4c4",
   "metadata": {
    "tags": []
   },
   "outputs": [
    {
     "data": {
      "text/html": [
       "<div>\n",
       "<style scoped>\n",
       "    .dataframe tbody tr th:only-of-type {\n",
       "        vertical-align: middle;\n",
       "    }\n",
       "\n",
       "    .dataframe tbody tr th {\n",
       "        vertical-align: top;\n",
       "    }\n",
       "\n",
       "    .dataframe thead th {\n",
       "        text-align: right;\n",
       "    }\n",
       "</style>\n",
       "<table border=\"1\" class=\"dataframe\">\n",
       "  <thead>\n",
       "    <tr style=\"text-align: right;\">\n",
       "      <th></th>\n",
       "      <th>txId</th>\n",
       "      <th>amount</th>\n",
       "      <th>timestamp</th>\n",
       "    </tr>\n",
       "  </thead>\n",
       "  <tbody>\n",
       "    <tr>\n",
       "      <th>0</th>\n",
       "      <td>9</td>\n",
       "      <td>5000000000</td>\n",
       "      <td>2009-01-09 03:54:39</td>\n",
       "    </tr>\n",
       "    <tr>\n",
       "      <th>1</th>\n",
       "      <td>78</td>\n",
       "      <td>5000000000</td>\n",
       "      <td>2009-01-11 01:00:54</td>\n",
       "    </tr>\n",
       "    <tr>\n",
       "      <th>2</th>\n",
       "      <td>171</td>\n",
       "      <td>5000000000</td>\n",
       "      <td>2009-01-12 03:30:25</td>\n",
       "    </tr>\n",
       "    <tr>\n",
       "      <th>3</th>\n",
       "      <td>183</td>\n",
       "      <td>4000000000</td>\n",
       "      <td>2009-01-12 06:02:13</td>\n",
       "    </tr>\n",
       "    <tr>\n",
       "      <th>4</th>\n",
       "      <td>185</td>\n",
       "      <td>3000000000</td>\n",
       "      <td>2009-01-12 06:12:16</td>\n",
       "    </tr>\n",
       "    <tr>\n",
       "      <th>...</th>\n",
       "      <td>...</td>\n",
       "      <td>...</td>\n",
       "      <td>...</td>\n",
       "    </tr>\n",
       "    <tr>\n",
       "      <th>10531946</th>\n",
       "      <td>10572658</td>\n",
       "      <td>10610522</td>\n",
       "      <td>2012-12-31 23:52:37</td>\n",
       "    </tr>\n",
       "    <tr>\n",
       "      <th>10531947</th>\n",
       "      <td>10572659</td>\n",
       "      <td>281789250</td>\n",
       "      <td>2012-12-31 23:52:37</td>\n",
       "    </tr>\n",
       "    <tr>\n",
       "      <th>10531948</th>\n",
       "      <td>10572660</td>\n",
       "      <td>27332499</td>\n",
       "      <td>2012-12-31 23:52:37</td>\n",
       "    </tr>\n",
       "    <tr>\n",
       "      <th>10531951</th>\n",
       "      <td>10572663</td>\n",
       "      <td>780240000</td>\n",
       "      <td>2012-12-31 23:52:37</td>\n",
       "    </tr>\n",
       "    <tr>\n",
       "      <th>10532114</th>\n",
       "      <td>10572826</td>\n",
       "      <td>16009892200</td>\n",
       "      <td>2012-12-31 23:52:37</td>\n",
       "    </tr>\n",
       "  </tbody>\n",
       "</table>\n",
       "<p>10532115 rows × 3 columns</p>\n",
       "</div>"
      ],
      "text/plain": [
       "              txId       amount           timestamp\n",
       "0                9   5000000000 2009-01-09 03:54:39\n",
       "1               78   5000000000 2009-01-11 01:00:54\n",
       "2              171   5000000000 2009-01-12 03:30:25\n",
       "3              183   4000000000 2009-01-12 06:02:13\n",
       "4              185   3000000000 2009-01-12 06:12:16\n",
       "...            ...          ...                 ...\n",
       "10531946  10572658     10610522 2012-12-31 23:52:37\n",
       "10531947  10572659    281789250 2012-12-31 23:52:37\n",
       "10531948  10572660     27332499 2012-12-31 23:52:37\n",
       "10531951  10572663    780240000 2012-12-31 23:52:37\n",
       "10532114  10572826  16009892200 2012-12-31 23:52:37\n",
       "\n",
       "[10532115 rows x 3 columns]"
      ]
     },
     "execution_count": 41,
     "metadata": {},
     "output_type": "execute_result"
    }
   ],
   "source": [
    "df_transactions_timestamp=Output_values.merge(df_transactions[['txId','timestamp']],on='txId')\n",
    "\n",
    "df_transactions_timestamp.sort_values(by='timestamp', inplace=True)\n",
    "df_transactions_timestamp"
   ]
  },
  {
   "cell_type": "markdown",
   "id": "3c5aa839",
   "metadata": {},
   "source": [
    "In fine, per  avere una visualizzazione grafica della distribuzione dei volumi delle transazioni , nell'intero periodo (2009-2012) , ho utilizzato un line plot , dove sull'asse delle X sono riportati range di date (sull'intero periodo considerato), e sull'asse delle Y sono riportati i volumi delle transazioni"
   ]
  },
  {
   "cell_type": "code",
   "execution_count": 42,
   "id": "e9332b7a",
   "metadata": {
    "tags": []
   },
   "outputs": [
    {
     "data": {
      "text/plain": [
       "Text(0, 0.5, 'Transaction Volume')"
      ]
     },
     "execution_count": 42,
     "metadata": {},
     "output_type": "execute_result"
    },
    {
     "data": {
      "image/png": "[encoded data removed]",
      "text/plain": [
       "<Figure size 640x480 with 1 Axes>"
      ]
     },
     "metadata": {},
     "output_type": "display_data"
    }
   ],
   "source": [
    "plt.plot(df_transactions_timestamp['timestamp'], df_transactions_timestamp['amount'], marker='o')\n",
    "plt.xticks(rotation=45)\n",
    "plt.title(\"Transactions volume  from 2009 to 2012 \")\n",
    "plt.ylabel(\"Transaction Volume\")\n"
   ]
  },
  {
   "cell_type": "markdown",
   "id": "3e9fcd08",
   "metadata": {},
   "source": [
    "Osservando il grafico , si nota che fino al 2011-01 abbiamo avuto transazioni con un volume \"regolare\", mentre dal 2011-01, abbiamo iniziato ad avere una forte oscillazione del volume delle transazioni."
   ]
  },
  {
   "cell_type": "markdown",
   "id": "bcf073a4-fec1-47a1-aba4-d4bab4a7c419",
   "metadata": {},
   "source": [
    "# 2.2 Clusterizzazione degli indirizzi di Bitcoin: euristica multi-input"
   ]
  },
  {
   "cell_type": "markdown",
   "id": "88fff7a7",
   "metadata": {},
   "source": [
    "Per realizzare questa parte del progetto, ho importato i DataSet degli inputs e degli outputs, assegnando i nomi alle colonne e aggiungendo il campo `output_id`, come effettuato per la prima parte del progetto "
   ]
  },
  {
   "cell_type": "code",
   "execution_count": 43,
   "id": "393729b0",
   "metadata": {
    "tags": []
   },
   "outputs": [
    {
     "name": "stdout",
     "output_type": "stream",
     "text": [
      "   txId  prevTxId  prevTxPos\n",
      "0   171         9          0\n",
      "1   183       171          1\n",
      "2   185       183          1\n",
      "3   187       185          1\n",
      "4   192       187          0\n",
      "   txId  position  addressId      amount  scripType\n",
      "0     9         0          9  5000000000          1\n",
      "1    78         0         78  5000000000          1\n",
      "2   171         0        171  1000000000          1\n",
      "3   171         1          9  4000000000          1\n",
      "4   183         0        183  1000000000          1\n"
     ]
    }
   ],
   "source": [
    "import pandas as pd\n",
    "import numpy as np\n",
    "import networkx as nx\n",
    "\n",
    "Inputs=pd.read_csv(\"2013/inputs.csv\",names=[\"txId\",\"prevTxId\",\"prevTxPos\"])\n",
    "Outputs=pd.read_csv(\"2013/outputs.csv\",names=[\"txId\",\"position\",\"addressId\",\"amount\",\"scripType\"])\n",
    "\n",
    "# associo ad ogni input un id che identifica l'output che utilizza\n",
    "#Inputs['output_id']=Inputs['prevTxId'].astype(str)+Inputs['prevTxPos'].astype(str)\n",
    "\n",
    "### associo ad ogni output un id che semplifica le operazioni di merging e di join con il Data Frame Input\n",
    "#Outputs['output_id']=Outputs['txId'].astype(str)+Outputs['position'].astype(str)\n",
    "\n",
    "print(Inputs.head())\n",
    "print(Outputs.head())"
   ]
  },
  {
   "cell_type": "markdown",
   "id": "a52bd03f",
   "metadata": {},
   "source": [
    "Successivamente , ho inserito tutti gli id delle transazioni, presenti nel DataFrame `Inputs`, in un `set` python"
   ]
  },
  {
   "cell_type": "code",
   "execution_count": 44,
   "id": "68980ed1",
   "metadata": {
    "tags": []
   },
   "outputs": [],
   "source": [
    "transactions=set(Inputs['txId'].values)"
   ]
  },
  {
   "cell_type": "markdown",
   "id": "5b013219",
   "metadata": {},
   "source": [
    "Dopo di che , ho effettuato il merging del DataFrame `Inputs` con il DataFrame `Outputs` , per ottenere gli `addressId` dei vari input utilizzati nelle transazioni"
   ]
  },
  {
   "cell_type": "code",
   "execution_count": 45,
   "id": "0f1ad8dc",
   "metadata": {},
   "outputs": [
    {
     "data": {
      "text/html": [
       "<div>\n",
       "<style scoped>\n",
       "    .dataframe tbody tr th:only-of-type {\n",
       "        vertical-align: middle;\n",
       "    }\n",
       "\n",
       "    .dataframe tbody tr th {\n",
       "        vertical-align: top;\n",
       "    }\n",
       "\n",
       "    .dataframe thead th {\n",
       "        text-align: right;\n",
       "    }\n",
       "</style>\n",
       "<table border=\"1\" class=\"dataframe\">\n",
       "  <thead>\n",
       "    <tr style=\"text-align: right;\">\n",
       "      <th></th>\n",
       "      <th>position</th>\n",
       "      <th>addressId</th>\n",
       "      <th>amount</th>\n",
       "      <th>scripType</th>\n",
       "    </tr>\n",
       "    <tr>\n",
       "      <th>txId</th>\n",
       "      <th></th>\n",
       "      <th></th>\n",
       "      <th></th>\n",
       "      <th></th>\n",
       "    </tr>\n",
       "  </thead>\n",
       "  <tbody>\n",
       "    <tr>\n",
       "      <th>171</th>\n",
       "      <td>0</td>\n",
       "      <td>9</td>\n",
       "      <td>5000000000</td>\n",
       "      <td>1</td>\n",
       "    </tr>\n",
       "    <tr>\n",
       "      <th>183</th>\n",
       "      <td>1</td>\n",
       "      <td>9</td>\n",
       "      <td>4000000000</td>\n",
       "      <td>1</td>\n",
       "    </tr>\n",
       "    <tr>\n",
       "      <th>185</th>\n",
       "      <td>1</td>\n",
       "      <td>9</td>\n",
       "      <td>3000000000</td>\n",
       "      <td>1</td>\n",
       "    </tr>\n",
       "    <tr>\n",
       "      <th>187</th>\n",
       "      <td>1</td>\n",
       "      <td>9</td>\n",
       "      <td>2900000000</td>\n",
       "      <td>1</td>\n",
       "    </tr>\n",
       "    <tr>\n",
       "      <th>192</th>\n",
       "      <td>0</td>\n",
       "      <td>187</td>\n",
       "      <td>100000000</td>\n",
       "      <td>1</td>\n",
       "    </tr>\n",
       "    <tr>\n",
       "      <th>...</th>\n",
       "      <td>...</td>\n",
       "      <td>...</td>\n",
       "      <td>...</td>\n",
       "      <td>...</td>\n",
       "    </tr>\n",
       "    <tr>\n",
       "      <th>10572823</th>\n",
       "      <td>7</td>\n",
       "      <td>3526385</td>\n",
       "      <td>10000000</td>\n",
       "      <td>2</td>\n",
       "    </tr>\n",
       "    <tr>\n",
       "      <th>10572824</th>\n",
       "      <td>5</td>\n",
       "      <td>3525822</td>\n",
       "      <td>10000000</td>\n",
       "      <td>2</td>\n",
       "    </tr>\n",
       "    <tr>\n",
       "      <th>10572825</th>\n",
       "      <td>6</td>\n",
       "      <td>3517234</td>\n",
       "      <td>10000000</td>\n",
       "      <td>2</td>\n",
       "    </tr>\n",
       "    <tr>\n",
       "      <th>10572826</th>\n",
       "      <td>2</td>\n",
       "      <td>3524243</td>\n",
       "      <td>10000000</td>\n",
       "      <td>2</td>\n",
       "    </tr>\n",
       "    <tr>\n",
       "      <th>10572826</th>\n",
       "      <td>4</td>\n",
       "      <td>6137717</td>\n",
       "      <td>15999992200</td>\n",
       "      <td>2</td>\n",
       "    </tr>\n",
       "  </tbody>\n",
       "</table>\n",
       "<p>21378770 rows × 4 columns</p>\n",
       "</div>"
      ],
      "text/plain": [
       "          position  addressId       amount  scripType\n",
       "txId                                                 \n",
       "171              0          9   5000000000          1\n",
       "183              1          9   4000000000          1\n",
       "185              1          9   3000000000          1\n",
       "187              1          9   2900000000          1\n",
       "192              0        187    100000000          1\n",
       "...            ...        ...          ...        ...\n",
       "10572823         7    3526385     10000000          2\n",
       "10572824         5    3525822     10000000          2\n",
       "10572825         6    3517234     10000000          2\n",
       "10572826         2    3524243     10000000          2\n",
       "10572826         4    6137717  15999992200          2\n",
       "\n",
       "[21378770 rows x 4 columns]"
      ]
     },
     "execution_count": 45,
     "metadata": {},
     "output_type": "execute_result"
    }
   ],
   "source": [
    "df_inputs_address=Inputs.merge(Outputs,left_on=['prevTxId','prevTxPos'],right_on=['txId','position'],how='inner')\n",
    "df_inputs_address.drop(columns=['txId_y','prevTxPos','prevTxId'],inplace=True)\n",
    "df_inputs_address.rename(columns={'txId_x':'txId'},inplace=True)\n",
    "df_inputs_address.set_index('txId',inplace=True)\n",
    "\n",
    "df_inputs_address"
   ]
  },
  {
   "cell_type": "markdown",
   "id": "e706e776",
   "metadata": {},
   "source": [
    "Successivamente , ho creato un grafo ,utilizzando la libreria `networkx`, e aggiunto tutti gli `addressId` ,presenti nel DataFrame ottenuto precedentemente, come nodi nel grafo"
   ]
  },
  {
   "cell_type": "code",
   "execution_count": 46,
   "id": "dce39dac",
   "metadata": {
    "tags": []
   },
   "outputs": [],
   "source": [
    "addresses=set(df_inputs_address['addressId'].values)\n",
    "\n",
    "G=nx.DiGraph()\n",
    "G.add_nodes_from(addresses)"
   ]
  },
  {
   "cell_type": "markdown",
   "id": "ff867ade",
   "metadata": {},
   "source": [
    "**Nota**: per visualizzare le varie progress bar utilizzate nel notebook, è necessario installare il package `tqdm` , tramite l'esecuzione della seguente cella "
   ]
  },
  {
   "cell_type": "code",
   "execution_count": 47,
   "id": "3d45002e",
   "metadata": {},
   "outputs": [
    {
     "name": "stdout",
     "output_type": "stream",
     "text": [
      "Requirement already satisfied: tqdm in /opt/homebrew/lib/python3.11/site-packages (4.65.0)\n",
      "\n",
      "\u001b[1m[\u001b[0m\u001b[34;49mnotice\u001b[0m\u001b[1;39;49m]\u001b[0m\u001b[39;49m A new release of pip is available: \u001b[0m\u001b[31;49m23.2.1\u001b[0m\u001b[39;49m -> \u001b[0m\u001b[32;49m23.3.2\u001b[0m\n",
      "\u001b[1m[\u001b[0m\u001b[34;49mnotice\u001b[0m\u001b[1;39;49m]\u001b[0m\u001b[39;49m To update, run: \u001b[0m\u001b[32;49mpython3.11 -m pip install --upgrade pip\u001b[0m\n",
      "Note: you may need to restart the kernel to use updated packages.\n"
     ]
    }
   ],
   "source": [
    "pip install tqdm"
   ]
  },
  {
   "cell_type": "markdown",
   "id": "343ec255",
   "metadata": {},
   "source": [
    "Per rendere più veloce l'accesso, agli input utilizzati in una certa transazione , ho utilizzato un `HashMap` , che associa a ciascuna transazione ,la lista di tutti gli `addressId` degli input utilizzati."
   ]
  },
  {
   "cell_type": "code",
   "execution_count": 48,
   "id": "744f0597",
   "metadata": {
    "tags": []
   },
   "outputs": [
    {
     "name": "stderr",
     "output_type": "stream",
     "text": [
      "Costruzione HashMap: 100%|██████████| 21378770/21378770 [00:41<00:00, 509965.75it/s] \n"
     ]
    }
   ],
   "source": [
    "from collections import defaultdict\n",
    "from tqdm import tqdm\n",
    "\n",
    "num_inputs=len(df_inputs_address.reset_index()['txId'])\n",
    "\n",
    "progress_bar=tqdm(total=num_inputs,desc=\"Costruzione HashMap\")\n",
    "\n",
    "transactions_inputs=defaultdict(list)\n",
    "\n",
    "for row in df_inputs_address.itertuples(index=True):\n",
    "    txId=row[0]\n",
    "    addressId=row[2]#row[4]\n",
    "    transactions_inputs[txId].append(addressId) # aggiungo *addressId* alla lista degli input utilizzati nella transazione *txId*\n",
    "    progress_bar.update(1)\n",
    "    \n",
    "progress_bar.close()"
   ]
  },
  {
   "cell_type": "markdown",
   "id": "3f71f227",
   "metadata": {},
   "source": [
    "Dopo di che , per ciascuna transazione all'interno del set `transactions`, ho creato un'arco nel grafo , tra il primo input e tutti gli input della medesima transazione"
   ]
  },
  {
   "cell_type": "code",
   "execution_count": 49,
   "id": "5a13ec8a",
   "metadata": {
    "tags": []
   },
   "outputs": [
    {
     "name": "stderr",
     "output_type": "stream",
     "text": [
      "  0%|          | 0/10358266 [00:00<?, ?it/s]"
     ]
    },
    {
     "name": "stderr",
     "output_type": "stream",
     "text": [
      "100%|██████████| 10358266/10358266 [00:27<00:00, 378835.35it/s]\n"
     ]
    }
   ],
   "source": [
    "for txId in tqdm(transactions):\n",
    "\n",
    "    transaction_inputs=transactions_inputs[txId]\n",
    "    \n",
    "    if len(transaction_inputs)<=1: # se la transazione ha un solo input , passo alla successiva\n",
    "        continue\n",
    "    \n",
    "    first_input=transaction_inputs[0]   \n",
    "\n",
    "    edges = [(first_input, inp) for inp in transaction_inputs[1:]]\n",
    "    G.add_edges_from(edges)"
   ]
  },
  {
   "cell_type": "code",
   "execution_count": 50,
   "id": "8a939fb7",
   "metadata": {
    "tags": []
   },
   "outputs": [
    {
     "name": "stdout",
     "output_type": "stream",
     "text": [
      "Numero nodi:7910147\n",
      "Numero archi:4798358\n"
     ]
    }
   ],
   "source": [
    "print(f\"Numero nodi:{G.number_of_nodes()}\")\n",
    "print(f\"Numero archi:{G.number_of_edges()}\")"
   ]
  },
  {
   "cell_type": "markdown",
   "id": "9e307de5",
   "metadata": {},
   "source": [
    "La seguente cella permette di disegnare il grafo costruito , ma date le dimensione del grafo, richiede troppo tempo"
   ]
  },
  {
   "cell_type": "code",
   "execution_count": null,
   "id": "89b83597",
   "metadata": {},
   "outputs": [],
   "source": [
    "pos = nx.spring_layout(G, iterations=15, seed=1721)\n",
    "fig, ax = plt.subplots(figsize=(15, 9))\n",
    "ax.axis(\"off\")\n",
    "\n",
    "plot_options = {\"node_size\": 10, \"with_labels\": False, \"width\": 0.15}\n",
    "nx.draw_networkx(G, pos=pos, ax=ax, **plot_options)"
   ]
  },
  {
   "cell_type": "markdown",
   "id": "ab9affff",
   "metadata": {},
   "source": [
    "Per la creazione dei cluster , ho generato una lista delle *weakly_connected_components* (con ordine *larger first*)"
   ]
  },
  {
   "cell_type": "code",
   "execution_count": 51,
   "id": "c49276ac",
   "metadata": {
    "tags": []
   },
   "outputs": [],
   "source": [
    "clusters=sorted(nx.weakly_connected_components(G), key=len, reverse=True)"
   ]
  },
  {
   "cell_type": "markdown",
   "id": "222fbd85",
   "metadata": {},
   "source": [
    "Successivamente ,  ho calcolato la dimensione di ciascun cluster"
   ]
  },
  {
   "cell_type": "code",
   "execution_count": 52,
   "id": "a75562b2",
   "metadata": {
    "tags": []
   },
   "outputs": [],
   "source": [
    "cluster_sizes=[len(c) for c in clusters]"
   ]
  },
  {
   "cell_type": "code",
   "execution_count": 53,
   "id": "e27ea995",
   "metadata": {
    "tags": []
   },
   "outputs": [
    {
     "name": "stdout",
     "output_type": "stream",
     "text": [
      "Dimensione massima cluster: 259773\n",
      "Dimensione minima cluster: 1\n",
      "Dimensione media cluster: 1.9765781096168358\n"
     ]
    }
   ],
   "source": [
    "print(f\"Dimensione massima cluster: {cluster_sizes[0]}\")\n",
    "print(f\"Dimensione minima cluster: {cluster_sizes[len(cluster_sizes)-1]}\")\n",
    "print(f\"Dimensione media cluster: {np.mean(cluster_sizes)}\")"
   ]
  },
  {
   "cell_type": "markdown",
   "id": "5da01df9",
   "metadata": {},
   "source": [
    "Dopo di che , ho utilizzato un `Box plot`,  per rappresentare la distribuzione della dimensione dei cluster."
   ]
  },
  {
   "cell_type": "code",
   "execution_count": 54,
   "id": "c1ff91c9",
   "metadata": {
    "tags": []
   },
   "outputs": [
    {
     "data": {
      "image/png": "[encoded data removed]",
      "text/plain": [
       "<Figure size 640x480 with 1 Axes>"
      ]
     },
     "metadata": {},
     "output_type": "display_data"
    }
   ],
   "source": [
    "import matplotlib.pyplot as plt\n",
    "\n",
    "plt.boxplot(cluster_sizes)\n",
    "plt.title(\"Clustering sizes Distribution \", fontdict={\"size\": 20}, loc=\"center\")\n",
    "plt.ylabel('Size')\n",
    "plt.show()"
   ]
  },
  {
   "cell_type": "markdown",
   "id": "8c940907",
   "metadata": {},
   "source": [
    "Il grafico mostra che la maggior parte dei cluster hanno pochi indirizzi (~1), mentre alcuni cluster hanno un numero molto maggiore di indirizzi ( max 2299094)"
   ]
  },
  {
   "cell_type": "markdown",
   "id": "ec965004",
   "metadata": {},
   "source": [
    "# 2.3 Deanonimizzazione degli indirizzi"
   ]
  },
  {
   "cell_type": "markdown",
   "id": "1020fc22",
   "metadata": {},
   "source": [
    "Per effettuare la deanonimizzazione degli indirizzi , ho per prima cosa importato il DataSet `mapAddr`, che  contiene l'associazione addressId - indirizzo bitcoin, per tutti gli addressId presenti nel DataSet"
   ]
  },
  {
   "cell_type": "code",
   "execution_count": 55,
   "id": "273d4870",
   "metadata": {
    "tags": []
   },
   "outputs": [
    {
     "data": {
      "text/html": [
       "<div>\n",
       "<style scoped>\n",
       "    .dataframe tbody tr th:only-of-type {\n",
       "        vertical-align: middle;\n",
       "    }\n",
       "\n",
       "    .dataframe tbody tr th {\n",
       "        vertical-align: top;\n",
       "    }\n",
       "\n",
       "    .dataframe thead th {\n",
       "        text-align: right;\n",
       "    }\n",
       "</style>\n",
       "<table border=\"1\" class=\"dataframe\">\n",
       "  <thead>\n",
       "    <tr style=\"text-align: right;\">\n",
       "      <th></th>\n",
       "      <th>hash</th>\n",
       "    </tr>\n",
       "    <tr>\n",
       "      <th>addressId</th>\n",
       "      <th></th>\n",
       "    </tr>\n",
       "  </thead>\n",
       "  <tbody>\n",
       "    <tr>\n",
       "      <th>0</th>\n",
       "      <td>1A1zP1eP5QGefi2DMPTfTL5SLmv7DivfNa</td>\n",
       "    </tr>\n",
       "    <tr>\n",
       "      <th>1</th>\n",
       "      <td>12c6DSiU4Rq3P4ZxziKxzrL5LmMBrzjrJX</td>\n",
       "    </tr>\n",
       "    <tr>\n",
       "      <th>2</th>\n",
       "      <td>1HLoD9E4SDFFPDiYfNYnkBLQ85Y51J3Zb1</td>\n",
       "    </tr>\n",
       "    <tr>\n",
       "      <th>3</th>\n",
       "      <td>1FvzCLoTPGANNjWoUo6jUGuAG3wg1w4YjR</td>\n",
       "    </tr>\n",
       "    <tr>\n",
       "      <th>4</th>\n",
       "      <td>15ubicBBWFnvoZLT7GiU2qxjRaKJPdkDMG</td>\n",
       "    </tr>\n",
       "    <tr>\n",
       "      <th>...</th>\n",
       "      <td>...</td>\n",
       "    </tr>\n",
       "    <tr>\n",
       "      <th>8708816</th>\n",
       "      <td>13dJEWNK55L5Zbh8ZVqpvmpritkEYHD1nE</td>\n",
       "    </tr>\n",
       "    <tr>\n",
       "      <th>8708817</th>\n",
       "      <td>1GA1vXcj4UMwcgr7nBftkpxXE6RrBwwm2M</td>\n",
       "    </tr>\n",
       "    <tr>\n",
       "      <th>8708818</th>\n",
       "      <td>1DrJbVsNJDweTQgKAwrBNyKuvtFBS6iKNK</td>\n",
       "    </tr>\n",
       "    <tr>\n",
       "      <th>8708819</th>\n",
       "      <td>1Mtcwd8jsoMYdwBxcybBkFWm1NNCRMRToh</td>\n",
       "    </tr>\n",
       "    <tr>\n",
       "      <th>8708820</th>\n",
       "      <td>1H3kPaxJbJoQBpKeaZ8MM781WkMjx3Nge1</td>\n",
       "    </tr>\n",
       "  </tbody>\n",
       "</table>\n",
       "<p>8708821 rows × 1 columns</p>\n",
       "</div>"
      ],
      "text/plain": [
       "                                         hash\n",
       "addressId                                    \n",
       "0          1A1zP1eP5QGefi2DMPTfTL5SLmv7DivfNa\n",
       "1          12c6DSiU4Rq3P4ZxziKxzrL5LmMBrzjrJX\n",
       "2          1HLoD9E4SDFFPDiYfNYnkBLQ85Y51J3Zb1\n",
       "3          1FvzCLoTPGANNjWoUo6jUGuAG3wg1w4YjR\n",
       "4          15ubicBBWFnvoZLT7GiU2qxjRaKJPdkDMG\n",
       "...                                       ...\n",
       "8708816    13dJEWNK55L5Zbh8ZVqpvmpritkEYHD1nE\n",
       "8708817    1GA1vXcj4UMwcgr7nBftkpxXE6RrBwwm2M\n",
       "8708818    1DrJbVsNJDweTQgKAwrBNyKuvtFBS6iKNK\n",
       "8708819    1Mtcwd8jsoMYdwBxcybBkFWm1NNCRMRToh\n",
       "8708820    1H3kPaxJbJoQBpKeaZ8MM781WkMjx3Nge1\n",
       "\n",
       "[8708821 rows x 1 columns]"
      ]
     },
     "execution_count": 55,
     "metadata": {},
     "output_type": "execute_result"
    }
   ],
   "source": [
    "import pandas as pd\n",
    "df_mapping=pd.read_csv('./2013/mapAddr2Ids8708820.csv',names=['hash','addressId'],index_col='addressId')\n",
    "df_mapping"
   ]
  },
  {
   "cell_type": "markdown",
   "id": "a73a3a39",
   "metadata": {},
   "source": [
    "Successivamente , ho estratto i 10 cluster di dimensione maggiore, dall'insieme di cluster ottenuti precedentemente"
   ]
  },
  {
   "cell_type": "code",
   "execution_count": 56,
   "id": "acaab469",
   "metadata": {
    "tags": []
   },
   "outputs": [],
   "source": [
    "top_10_clusters=clusters[0:10]"
   ]
  },
  {
   "cell_type": "markdown",
   "id": "3983b5d1",
   "metadata": {},
   "source": [
    "Ho salvato i dati dei primi 10 cluster in un file binario , utilizzando la libreria `pickle`, per evitare di dover effettuare nuovamente  i passaggi per la creazione del grafo e la creazione dei cluster , ogni qualvolta venga chiuso il notebook o vengano eliminati i checkpoints di jupyter"
   ]
  },
  {
   "cell_type": "code",
   "execution_count": 57,
   "id": "556e0bba",
   "metadata": {
    "tags": []
   },
   "outputs": [],
   "source": [
    "import pickle\n",
    "file_path = \"./top_10_clusters.dat\"\n",
    "\n",
    "with open(file_path, \"wb\") as file:\n",
    "    pickle.dump(top_10_clusters, file)"
   ]
  },
  {
   "cell_type": "markdown",
   "id": "7a86a995",
   "metadata": {},
   "source": [
    "L'esecuzione della seguente cella di codice, permette la lettura del file, contenente i *top_10_clusters*"
   ]
  },
  {
   "cell_type": "code",
   "execution_count": 2,
   "id": "245f1cfe",
   "metadata": {},
   "outputs": [],
   "source": [
    "import pickle\n",
    "\n",
    "file_path = \"./top_10_clusters.dat\"\n",
    "with open(file_path, \"rb\") as file:\n",
    "    top_10_clusters = pickle.load(file)"
   ]
  },
  {
   "cell_type": "markdown",
   "id": "4d7945f6",
   "metadata": {},
   "source": [
    "Per cercare di deanonimizzare gli indirizzi contenuti nei cluster , ho utilizzato i servizi `walletexplorer.com` e `bitinfocharts.com`"
   ]
  },
  {
   "cell_type": "code",
   "execution_count": 61,
   "id": "75053209",
   "metadata": {
    "tags": []
   },
   "outputs": [],
   "source": [
    "import requests\n",
    "import time\n",
    "from bs4 import BeautifulSoup"
   ]
  },
  {
   "cell_type": "markdown",
   "id": "badca11e",
   "metadata": {},
   "source": [
    "Per ricercare informazioni su un certo indirizzo , utilizzando il servizio `walletexplorer.com`,\n",
    "ho analizzato  la pagina web da browser , per cercare di capire come veniva effettuata la ricerca. \n",
    "\n",
    "Ho osservato che , per effettuare la ricerca di informazioni su un certo indirizzo, dobbiamo:\n",
    "\n",
    "- Inserire l'indirizzo di cui vogliamo ottenere informazioni, nell'apposita input box\n",
    "\n",
    "- Cliccare il pulsante `Search` \n",
    "\n",
    "![alternative text](./public/walletExplorerHomePage.png)\n",
    "\n",
    "Analizzando la tab `Network`, ho osservato che , una volta effettuato il submit della form, viene effettuata  una richiesta HTTP all'url https://www.walletexplorer.com, impostando un query parameter contenente l'indirizzo inserito precedentemente:\n",
    "\n",
    "![alternative text](./public/netwrorkTab.png)\n",
    "\n",
    "Quindi per effettuare lo scraping di informazioni da `walletexplorer.com` , ho creato un url di questa forma :\n",
    "<p align=\"center\">https://www.walletexplorer.com?q=[address]</p>\n",
    "\n",
    "e effettuato una richiesta HTTP per ciascun indirizzo nei vari cluster , per tutti i cluster presenti in `top_10_clusters`.\n"
   ]
  },
  {
   "cell_type": "markdown",
   "id": "008c611b",
   "metadata": {},
   "source": [
    "Mentre per ricercare informazioni su un certo indirizzo , utilizzando il servizio `bitinfocharts.com` , basta effettuare una richiesta HTTP al seguente url:\n",
    "    <p align=\"center\">https://bitinfocharts.com/bitcoin/address/[address]</p>\n",
    "\n",
    "Come riportato nella descrizione del progetto.\n",
    "\n"
   ]
  },
  {
   "cell_type": "markdown",
   "id": "056663dd",
   "metadata": {},
   "source": [
    "Dato che `walletexplorer.com` e `bitinfocharts.com`  applicano tecniche di rate limiting delle richieste HTTP, per cercare di contrastare  il più possibile le restrizioni anti-scraping  e ridurre il tempo di attesa ,a causa di un blocco temporaneo delle richieste , ho applicato diverse  metodologie:\n",
    "\n",
    "- **Random user agent**: Utilizzando la libreria `fake_useragent` per generare in maniera random  stringhe `user agent` ,che permettono di simulare l'origine delle richieste da diversi browser, sistemi operativi o dispositivi. Ciò può aiutare nel prevenire il rilevamento dal parte del server\n",
    "\n",
    "- **Randomizzazione delle richieste**: Si varia il tempo di attesa tra una richiesta e la successiva , per farle sembrare più \"naturali\" e non un processo automatizzato (nell'implementazione ho utilizzato la libreria `random` , per generare il numero di secondi di attesa, che possono essere 1-6 secondi )\n",
    "\n",
    "- **Sospensione delle richieste in caso di applicazione del rate limiting**: Ovvero, nel caso in cui a seguito di una richiesta HTTP , venga restituito lo status code `429` (`To many requests`) o `403` (`Forbidden`), si attende un tempo che varia tra i 30 e i 120 secondi, prima di riprovare a effettuare nuovamente la richiesta HTTP"
   ]
  },
  {
   "cell_type": "markdown",
   "id": "48f5664d",
   "metadata": {},
   "source": [
    "**Nota**: Eseguire la successiva cella per installare il package `fake-useragent`"
   ]
  },
  {
   "cell_type": "code",
   "execution_count": 20,
   "id": "15add1bd",
   "metadata": {
    "tags": []
   },
   "outputs": [
    {
     "name": "stdout",
     "output_type": "stream",
     "text": [
      "Collecting fake-useragent\n",
      "  Downloading fake_useragent-1.1.3-py3-none-any.whl (50 kB)\n",
      "\u001b[2K     \u001b[90m━━━━━━━━━━━━━━━━━━━━━━━━━━━━━━━━━━━━━━━━\u001b[0m \u001b[32m50.5/50.5 kB\u001b[0m \u001b[31m2.1 MB/s\u001b[0m eta \u001b[36m0:00:00\u001b[0m\n",
      "\u001b[?25hInstalling collected packages: fake-useragent\n",
      "Successfully installed fake-useragent-1.1.3\n",
      "Note: you may need to restart the kernel to use updated packages.\n"
     ]
    }
   ],
   "source": [
    "pip install fake-useragent"
   ]
  },
  {
   "cell_type": "code",
   "execution_count": 58,
   "id": "baeaf91c",
   "metadata": {
    "tags": []
   },
   "outputs": [],
   "source": [
    "import random\n",
    "from fake_useragent import UserAgent\n",
    "\n",
    "user_agent=UserAgent()\n",
    "\n",
    "### Dato un indirizzo bitcoin, utilizzando il servizi `walletexplorer.com` e `bitinfocharts.com`,\n",
    "### restituisce una lista contenente il le informazioni sull'indirizzo: il primo elemento è il risultato \n",
    "### di `walletexplorer.com` e il secondo elemento è il risultato di `bitinfocharts.com`\n",
    "  \n",
    "\n",
    "def extract_address_info(btc_address):\n",
    "\n",
    "    def fetch_info(url):\n",
    "        while True:\n",
    "            \n",
    "            headers = {\"User-Agent\": user_agent.random}\n",
    "            res = requests.get(url, headers=headers)\n",
    "\n",
    "            if res.status_code == 429 or res.status_code == 403:  # To many requests\n",
    "                print('To many requests: waiting maximum 2 minutes...')\n",
    "                time.sleep(random.randint(30, 120))\n",
    "                \n",
    "            elif res.status_code != 200:  # Error\n",
    "                print(res.status_code, res.text)\n",
    "                raise Exception(\n",
    "                    \"An error occurred while fetching address info\")\n",
    "            \n",
    "            else:  # Success\n",
    "                return res.text\n",
    "\n",
    "    def scraping_from_wallet_explorer():\n",
    "        base_url = \"https://www.walletexplorer.com\"\n",
    "\n",
    "        def extract_links(dest_dict, soup):\n",
    "            details_span = soup.find(\"span\", {\"class\": \"showother\"})\n",
    "            links = details_span.find_all(\"a\")\n",
    "            \n",
    "            if links == None: # Nessun link\n",
    "                return\n",
    "            \n",
    "            if len(links) == 1: # un solo link (link alla pagina del wallet in cui è contenuto l'indirizzo *btc_address*)\n",
    "                dest_dict['link_to_wallet_addresses'] = base_url + \\\n",
    "                    links[0]['href']\n",
    "\n",
    "            else: # due link (link alla pagina del wallet e link alla pagina del servizio)\n",
    "                dest_dict['link_to_service'] = links[0]['href']\n",
    "                dest_dict['link_to_wallet_addresses'] = base_url + \\\n",
    "                    links[1]['href']\n",
    "\n",
    "        response_page = fetch_info(url=f\"{base_url}/?q={btc_address}\")\n",
    "        soup = BeautifulSoup(response_page, \"html.parser\")\n",
    "\n",
    "        # Controllo eventuali messaggi di errori durante il fetching\n",
    "        error_box = soup.find(\"p\", {\"class\": \"error\"})\n",
    "        \n",
    "        if error_box != None: \n",
    "            raise Exception(f\"Errore: {error_box.get_text()}\")\n",
    "        \n",
    "        result = dict()\n",
    "        result['address_hash'] = btc_address\n",
    "        result[\"wallet_owner\"] = soup.find(\"h2\").get_text().split(\" \")[1]\n",
    "        extract_links(result, soup)\n",
    "\n",
    "        return result\n",
    "\n",
    "    def scraping_from_bitcoin_info():\n",
    "        base_url = \"https://bitinfocharts.com/bitcoin/address/\"\n",
    "        response_page = fetch_info(url=f\"{base_url}{btc_address}\")\n",
    "\n",
    "        soup = BeautifulSoup(response_page, \"html.parser\")\n",
    "        text_wallet = soup.find('small').find('a').get_text()\n",
    "        wallet = text_wallet.split(' ')[1]\n",
    "        \n",
    "        result = dict()\n",
    "        result['address_hash'] = btc_address\n",
    "        result[\"wallet_owner\"] = wallet\n",
    "        result['link_to_wallet_addresses'] = f\"https://bitinfocharts.com/bitcoin/wallet/{wallet}\"\n",
    "        return result\n",
    "\n",
    "    return [scraping_from_wallet_explorer(), scraping_from_bitcoin_info()]\n"
   ]
  },
  {
   "cell_type": "markdown",
   "id": "904a5805",
   "metadata": {},
   "source": [
    "A causa dell'elevato numero di indirizzi nei cluster e a causa delle restrizioni sulle richieste HTTP, precedentemente presentate, ho implementato una strategia di scraping che utilizza checkpoints.\n",
    "Ovvero , salvo su un file json l'avanzamento del processo di deanonimizzazione per ogni cluster, così da velocizzare il processo di scraping, non dovendo ,ogni volta che viene avviato il processo di scraping, effettuare nuovamente le stesse richieste effettuate in precedentemente."
   ]
  },
  {
   "cell_type": "markdown",
   "id": "e5aad87e",
   "metadata": {},
   "source": [
    "Il file json utilizzato per i checkpoints, rappresenta un array di 10 cluster (top_10_cluster), dove per ogni cluster abbiamo le seguenti proprietà:\n",
    "\n",
    "- `status` : Rappresenta lo stato del processo di deanonimizzazione del cluster. Può assumere uno dei seguenti  valori:\n",
    "\n",
    "    - `completed`: Indica che abbiamo terminato il processo di deanonimizzazione del cluster\n",
    "\n",
    "    - `skip`: Indica che il processo di deanonimizzazione per il cluster deve essere saltato (viene impostato manualmente nel file `checkpointing.json`). Per esempio , nel caso in cui il processo di deanonimizzazione per il cluster impieghi troppo tempo e vogliamo passare a processare il cluster successivo\n",
    "    \n",
    "    - `in_progress`: Indica che il processo di deanonimizzazione per il cluster è in corso\n",
    "    \n",
    "- `address_index`: Rappresenta l'indice , all'interno della lista di indirizzi del cluster , da cui riprendere il processo di deanonimizzazione. Nel caso in cui il campo `status` sia settato al valore `completed`, il valore del campo sarà `null`\n",
    "    \n",
    "\n",
    "- `result` (opzionale): Questo campo è presente solamente se il campo `status` è settato al valore `completed` , e rappresenta il risultato del processo di deanonimizzazione. Il suo valore è un array di oggetti JSON(il primo rappresenta il risultato della deanonimizzazione tramite il servizio `walletexplorer.com` , mentre il secondo, il risultato ottenuto tramite il servizio `bitinfocharts.com`). I campi di ogni risultato sono:\n",
    "\n",
    "    - `address_hash`: Ovvero l'indirizzo bitcoin con il quale abbiamo avuto un riscontro nel processo di deanonimizzazione, che lo ha associato a un servizio specifico\n",
    "\n",
    "    - `wallet_owner`: Indica il servizio che è stato associato all'indirizzo deanominizzato\n",
    "\n",
    "    - `link_to_wallet_addresses`: Indica il link alla pagina web che mostra il wallet all'interno del quale è presente l'indirizzo deanominizzato\n",
    "\n",
    "    - `link_to_service` (opzionale): Indica l'eventuale link alla pagina web del servizio deanominizzato\n",
    "\n",
    "    Nel caso di esito positivo di deanonimizzazione , da parte anche di un solo servizio , verrà riportato il risultato ottenuto anche tramite l'altro servizio  per complementarità , anche se quest'ultimo non ha deanonimizzato l'indirizzo.\n",
    "    Mentre nel caso in cui, l'analisi di tutti gli indirizzi di un cluster fosse stata completata, senza nessun risultato di deanonimizzazione , il campo result assumerà il valore `null`.\n",
    " \n",
    "\n",
    "Si riporta un esempio della struttura JSON descritta:\n",
    "\n",
    "```json\n",
    "[\n",
    "     {\n",
    "    \"status\": \"completed\",\n",
    "    \"result\": [\n",
    "      {\n",
    "        \"address_hash\": \"1PBHLEegr4X12grvxXzYqjH3N5btmAvDu4\",\n",
    "        \"wallet_owner\": \"SilkRoadMarketplace\",\n",
    "        \"link_to_wallet_addresses\": \"https://www.walletexplorer.com/wallet/SilkRoadMarketplace/addresses\"\n",
    "      },\n",
    "      {\n",
    "        \"address_hash\": \"1PBHLEegr4X12grvxXzYqjH3N5btmAvDu4\",\n",
    "        \"wallet_owner\": \"SilkRoadMarketplace\",\n",
    "        \"link_to_wallet_addresses\": \"https://bitinfocharts.com/bitcoin/wallet/SilkRoadMarketplace\"\n",
    "      }\n",
    "    ],\n",
    "    \"address_index\": null\n",
    "  },\n",
    "    {\n",
    "        \"status\": \"skip\",\n",
    "        \"address_index\": 4780\n",
    "    },\n",
    "     {\n",
    "    \"status\": \"in_progress\",\n",
    "    \"address_index\": 546\n",
    "  },\n",
    "]\n"
   ]
  },
  {
   "cell_type": "markdown",
   "id": "c8c1b5fe",
   "metadata": {},
   "source": [
    "Successivamente , ho definito le funzioni necessarie a leggere e a salvare i checkpoints"
   ]
  },
  {
   "cell_type": "code",
   "execution_count": 59,
   "id": "9307f514",
   "metadata": {
    "tags": []
   },
   "outputs": [],
   "source": [
    "import json\n",
    "\n",
    "def load_checkpoints():\n",
    "    file_path = \"./checkpointing.json\"\n",
    "    with open(file_path, \"r\") as file:\n",
    "        checkpoint_list = json.load(file)\n",
    "        return checkpoint_list\n",
    "\n",
    "def save_checkpoints(checkpoints):\n",
    "    file_path = \"./checkpointing.json\"\n",
    "    with open(file_path, \"w\") as file:\n",
    "        json.dump(checkpoints, file, indent=4)"
   ]
  },
  {
   "cell_type": "markdown",
   "id": "15dc5abb",
   "metadata": {},
   "source": [
    "A seguito di una richiesta a `walletexplorer.com` o `bitinfocharts.com` , in caso di assenza di errori , otteniamo una risposta rispetto all'indirizzo , che può essere:\n",
    "\n",
    "- Il nome del servizio associato all'indirizzo (es: Binance.com )\n",
    "\n",
    "- Una stringa univoca che identifica  il servizio a cui è associato l'indirizzo , in caso non si conosca l'identità di quest'ultimo (es: [0015c8c49c]) utilizzando `walletexplorer.com`, mentre otteniamo un numero (es: 0015c8c49c) utilizzando `bitinfocharts.com`."
   ]
  },
  {
   "cell_type": "code",
   "execution_count": null,
   "id": "efee5f08",
   "metadata": {
    "tags": []
   },
   "outputs": [],
   "source": [
    "import atexit\n",
    "import signal\n",
    "from tqdm import tqdm\n",
    "\n",
    "def deanonymizing_clusters(clusters):\n",
    "    checkpoints = load_checkpoints() \n",
    "    \n",
    "    ### registro la funzione che permette di salvare i checkpoints come handler per il segnale SIGINT\n",
    "    ### per non perdere i progressi raggiunti una volta che si interrompe l'esecuzione del blocco di codice\n",
    "    atexit.register(save_checkpoints, checkpoints)\n",
    "    def interrupt_handler(signal, frame):\n",
    "        save_checkpoints(checkpoints)\n",
    "        raise KeyboardInterrupt\n",
    "    signal.signal(signal.SIGINT, interrupt_handler)\n",
    "    \n",
    "    def has_match_wexp(result):\n",
    "        return result[\"wallet_owner\"][0] != '['\n",
    "    \n",
    "    def has_match_btc_info(result):\n",
    "        return not result[\"wallet_owner\"].isnumeric()\n",
    "\n",
    "\n",
    "    for cluster_id, cluster in enumerate(clusters):\n",
    "\n",
    "        start_index = 0\n",
    "\n",
    "        # cluster già deanominizzato, passo al prossimo\n",
    "        if 'status' in checkpoints[cluster_id] and checkpoints[cluster_id]['status'] == 'completed':\n",
    "            continue\n",
    "\n",
    "        # cluster da saltare\n",
    "        if 'status' in checkpoints[cluster_id] and checkpoints[cluster_id]['status'] == 'skip':\n",
    "            continue\n",
    "\n",
    "        # deanonimizzazione del cluster in corso\n",
    "        elif 'status' in checkpoints[cluster_id] and checkpoints[cluster_id]['status'] == 'in_progress':\n",
    "            start_index = checkpoints[cluster_id]['address_index'] if 'address_index' in checkpoints[cluster_id] else 0\n",
    "\n",
    "        # prima volta che viene processato il cluster\n",
    "        else:\n",
    "            checkpoints[cluster_id]['status'] = 'in_progress'\n",
    "            checkpoints[cluster_id]['address_index'] = 0\n",
    "\n",
    "        print(f\"Processing cluster {cluster_id+1}/10\")\n",
    "\n",
    "        cluster = list(cluster) ### conversione da set a list \n",
    "\n",
    "        progress_bar = tqdm(total=len(cluster))\n",
    "        progress_bar.update(start_index + 1) # Imposto l'inizio della progress bar\n",
    "        \n",
    "        for index in range(start_index, len(cluster)):\n",
    "            addressId = cluster[index]\n",
    "            \n",
    "            btc_address = df_mapping.loc[addressId]['hash'] # acquisizione dell' indirizzo bitcoin associato all' addressId\n",
    "            \n",
    "            result_wexp, result_btc_info = extract_address_info(btc_address)\n",
    "\n",
    "            progress_bar.update(1) \n",
    "            checkpoints[cluster_id]['address_index'] = index # Aggiornamento checkpoint\n",
    "            \n",
    "            #print(btc_address, result_wexp, result_btc_info)\n",
    "            \n",
    "            ### Verifico se ho avuto un match tra l'indirizzo bitcoin e un servizio\n",
    "            if has_match_wexp(result_wexp) or has_match_btc_info(result_btc_info):\n",
    "                print(btc_address, result_wexp, result_btc_info)\n",
    "                checkpoints[cluster_id]['status'] = 'completed'\n",
    "                checkpoints[cluster_id]['result'] = [result_wexp, result_btc_info]\n",
    "                checkpoints[cluster_id]['address_index'] = None\n",
    "                save_checkpoints(checkpoints)\n",
    "                break\n",
    "            time.sleep(random.randint(1, 6)) # attesa per effettuare la prossima richiesta\n",
    "\n",
    "\n",
    "        ### Non ho avuto nessun match tra gli indirizzi bitcoin del cluster e un servizio\n",
    "        if checkpoints[cluster_id]['result'] == None:\n",
    "            checkpoints[cluster_id]['status'] = 'completed'\n",
    "            checkpoints[cluster_id]['result'] = None\n",
    "        progress_bar.close()\n",
    "\n",
    "deanonymizing_clusters(top_10_clusters)        "
   ]
  },
  {
   "cell_type": "markdown",
   "id": "2d974e39",
   "metadata": {},
   "source": [
    "L'esecuzione della seguente cella , permette di leggere il file `checkpointing.json`, per mostrare i vari risultati conseguiti , nel processo di deanonimizzazione"
   ]
  },
  {
   "cell_type": "code",
   "execution_count": 1,
   "id": "13b266a9",
   "metadata": {
    "tags": []
   },
   "outputs": [
    {
     "ename": "NameError",
     "evalue": "name 'load_checkpoints' is not defined",
     "output_type": "error",
     "traceback": [
      "\u001b[0;31m---------------------------------------------------------------------------\u001b[0m",
      "\u001b[0;31mNameError\u001b[0m                                 Traceback (most recent call last)",
      "Cell \u001b[0;32mIn[1], line 1\u001b[0m\n\u001b[0;32m----> 1\u001b[0m \u001b[38;5;28;01mfor\u001b[39;00m index,cluster \u001b[38;5;129;01min\u001b[39;00m \u001b[38;5;28menumerate\u001b[39m(\u001b[43mload_checkpoints\u001b[49m()):\n\u001b[1;32m      2\u001b[0m     \u001b[38;5;28mprint\u001b[39m(cluster,\u001b[38;5;124m'\u001b[39m\u001b[38;5;130;01m\\n\u001b[39;00m\u001b[38;5;124m'\u001b[39m)\n",
      "\u001b[0;31mNameError\u001b[0m: name 'load_checkpoints' is not defined"
     ]
    }
   ],
   "source": [
    "for index,cluster in enumerate(load_checkpoints()):\n",
    "    print(cluster,'\\n')\n",
    "    "
   ]
  },
  {
   "cell_type": "markdown",
   "id": "540de99e",
   "metadata": {},
   "source": [
    "Analizzando il risultato del processo  di deanonimizzazione, del 4° cluster , osserviamo che  i due servizi utilizzati (`walletexplorer.com` e `bitinfocharts.com`), hanno associato un sevizio diverso al medesimo indirizzo bitcoin:\n",
    "\n",
    "```json\n",
    "{\n",
    "    \"status\": \"completed\",\n",
    "    \"address_index\": null,\n",
    "    \"result\": [\n",
    "      {\n",
    "        \"address_hash\": \"1Ho8D8c8eZLQu58TWkkVE3kU73WDo9wc1Q\",\n",
    "        \"wallet_owner\": \"CoinJoinMess\",\n",
    "        \"link_to_wallet_addresses\": \"https://www.walletexplorer.com/wallet/CoinJoinMess/addresses\"\n",
    "      },\n",
    "      {\n",
    "        \"address_hash\": \"1Ho8D8c8eZLQu58TWkkVE3kU73WDo9wc1Q\",\n",
    "        \"wallet_owner\": \"F2Pool\",\n",
    "        \"link_to_wallet_addresses\": \"https://bitinfocharts.com/bitcoin/wallet/F2Pool\"\n",
    "      }\n",
    "    ]\n",
    "  }```"
   ]
  },
  {
   "cell_type": "markdown",
   "id": "c1661945",
   "metadata": {},
   "source": [
    "Questo può essere dovuto al fatto che , i servizi utilizzati per riuscire ad associare un certo servizio a un indirizzo bitcoin , ricercano pattern specifici di transazioni e informazioni che permettano tale associazione.\n",
    "Nonostante ciò , queste associazioni sono basate su tecniche euristiche (come anche quella utilizzata nel progetto per la creazione di cluster), quindi possono esserci dei falsi-positivi.\n",
    "Inoltre l'utilizzo di tech-stack differenti (come diverse tipologie di database) e l'utilizzo di diverse tipologie di euristiche , possono portare a delle discrepanze nei risultati"
   ]
  },
  {
   "cell_type": "code",
   "execution_count": 4,
   "id": "cecedd61",
   "metadata": {},
   "outputs": [
    {
     "name": "stdout",
     "output_type": "stream",
     "text": [
      "WARNING: Import named \"beautifulsoup4\" not found locally. Trying to resolve it at the PyPI server.\n",
      "WARNING: Import named \"beautifulsoup4\" was resolved to \"beautifulsoup4:4.12.2\" package (https://pypi.org/project/beautifulsoup4/).\n",
      "Please, verify manually the final list of requirements.txt to avoid possible dependency confusions.\n",
      "WARNING: Import named \"Requests\" not found locally. Trying to resolve it at the PyPI server.\n",
      "WARNING: Import named \"Requests\" was resolved to \"requests:2.31.0\" package (https://pypi.org/project/requests/).\n",
      "Please, verify manually the final list of requirements.txt to avoid possible dependency confusions.\n",
      "INFO: Successfully saved requirements file in /Users/lorenzogarzelli/JUPITER_DOCKER_VOLUME/Web Scraping/PROGETTO-FINALE/requirements.txt\n"
     ]
    }
   ],
   "source": [
    "!pipreqs"
   ]
  },
  {
   "cell_type": "code",
   "execution_count": null,
   "id": "d09ed124",
   "metadata": {},
   "outputs": [],
   "source": []
  }
 ],
 "metadata": {
  "kernelspec": {
   "display_name": "Python 3 (ipykernel)",
   "language": "python",
   "name": "python3"
  },
  "language_info": {
   "codemirror_mode": {
    "name": "ipython",
    "version": 3
   },
   "file_extension": ".py",
   "mimetype": "text/x-python",
   "name": "python",
   "nbconvert_exporter": "python",
   "pygments_lexer": "ipython3",
   "version": "3.11.5"
  }
 },
 "nbformat": 4,
 "nbformat_minor": 5
}
